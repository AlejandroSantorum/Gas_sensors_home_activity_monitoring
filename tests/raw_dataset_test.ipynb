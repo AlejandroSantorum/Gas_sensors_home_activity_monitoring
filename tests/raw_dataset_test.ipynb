{
 "metadata": {
  "language_info": {
   "codemirror_mode": {
    "name": "ipython",
    "version": 3
   },
   "file_extension": ".py",
   "mimetype": "text/x-python",
   "name": "python",
   "nbconvert_exporter": "python",
   "pygments_lexer": "ipython3",
   "version": "3.7.3-final"
  },
  "orig_nbformat": 2,
  "kernelspec": {
   "name": "python3",
   "display_name": "Python 3"
  }
 },
 "nbformat": 4,
 "nbformat_minor": 2,
 "cells": [
  {
   "cell_type": "code",
   "execution_count": 76,
   "metadata": {},
   "outputs": [],
   "source": [
    "import pandas as pd\n",
    "import numpy as np"
   ]
  },
  {
   "cell_type": "code",
   "execution_count": 77,
   "metadata": {},
   "outputs": [
    {
     "output_type": "execute_result",
     "data": {
      "text/plain": [
       "(100, 5)"
      ]
     },
     "metadata": {},
     "execution_count": 77
    }
   ],
   "source": [
    "df_meta = pd.read_csv('../datasets/raw/HT_Sensor_metadata.dat', delimiter='\\t+')\n",
    "df_meta.shape"
   ]
  },
  {
   "cell_type": "code",
   "execution_count": 83,
   "metadata": {},
   "outputs": [
    {
     "output_type": "execute_result",
     "data": {
      "text/plain": [
       "   id      date   class     t0    dt\n",
       "0   0  07-04-15  banana  13.49  1.64\n",
       "1   1  07-05-15    wine  19.61  0.54\n",
       "2   2  07-06-15    wine  19.99  0.66\n",
       "3   3  07-09-15  banana   6.49  0.72\n",
       "4   4  07-09-15    wine  20.07  0.53"
      ],
      "text/html": "<div>\n<style scoped>\n    .dataframe tbody tr th:only-of-type {\n        vertical-align: middle;\n    }\n\n    .dataframe tbody tr th {\n        vertical-align: top;\n    }\n\n    .dataframe thead th {\n        text-align: right;\n    }\n</style>\n<table border=\"1\" class=\"dataframe\">\n  <thead>\n    <tr style=\"text-align: right;\">\n      <th></th>\n      <th>id</th>\n      <th>date</th>\n      <th>class</th>\n      <th>t0</th>\n      <th>dt</th>\n    </tr>\n  </thead>\n  <tbody>\n    <tr>\n      <th>0</th>\n      <td>0</td>\n      <td>07-04-15</td>\n      <td>banana</td>\n      <td>13.49</td>\n      <td>1.64</td>\n    </tr>\n    <tr>\n      <th>1</th>\n      <td>1</td>\n      <td>07-05-15</td>\n      <td>wine</td>\n      <td>19.61</td>\n      <td>0.54</td>\n    </tr>\n    <tr>\n      <th>2</th>\n      <td>2</td>\n      <td>07-06-15</td>\n      <td>wine</td>\n      <td>19.99</td>\n      <td>0.66</td>\n    </tr>\n    <tr>\n      <th>3</th>\n      <td>3</td>\n      <td>07-09-15</td>\n      <td>banana</td>\n      <td>6.49</td>\n      <td>0.72</td>\n    </tr>\n    <tr>\n      <th>4</th>\n      <td>4</td>\n      <td>07-09-15</td>\n      <td>wine</td>\n      <td>20.07</td>\n      <td>0.53</td>\n    </tr>\n  </tbody>\n</table>\n</div>"
     },
     "metadata": {},
     "execution_count": 83
    }
   ],
   "source": [
    "df_meta.head()"
   ]
  },
  {
   "cell_type": "code",
   "execution_count": 87,
   "metadata": {},
   "outputs": [
    {
     "output_type": "execute_result",
     "data": {
      "text/plain": [
       "(928991, 12)"
      ]
     },
     "metadata": {},
     "execution_count": 87
    }
   ],
   "source": [
    "df_db = pd.read_csv('../datasets/raw/HT_Sensor_dataset.dat', delimiter='\\s+')\n",
    "df_db.shape"
   ]
  },
  {
   "source": [
    "# Checking shubham article"
   ],
   "cell_type": "markdown",
   "metadata": {}
  },
  {
   "cell_type": "code",
   "execution_count": 88,
   "metadata": {},
   "outputs": [],
   "source": [
    "df_db.set_index('id', inplace=True)\n",
    "df_db = df_db.join(df_meta, how='inner')"
   ]
  },
  {
   "cell_type": "code",
   "execution_count": 89,
   "metadata": {},
   "outputs": [
    {
     "output_type": "execute_result",
     "data": {
      "text/plain": [
       "        time       R1       R2       R3       R4       R5       R6       R7  \\\n",
       "0  12.490250  12.8621  10.3683  10.4383  11.6699  13.4931  13.3423  8.04169   \n",
       "1  12.490528  12.8617  10.3682  10.4375  11.6697  13.4927  13.3412  8.04133   \n",
       "2  12.490806  12.8607  10.3686  10.4370  11.6696  13.4924  13.3405  8.04101   \n",
       "3  12.491084  12.8602  10.3686  10.4370  11.6697  13.4921  13.3398  8.04086   \n",
       "4  12.491373  12.8595  10.3688  10.4374  11.6699  13.4919  13.3390  8.04087   \n",
       "\n",
       "        R8    Temp.  Humidity  id      date   class    dt  \n",
       "0  8.73901  26.2257   59.0528   0  07-04-15  banana  1.64  \n",
       "1  8.73908  26.2308   59.0299   0  07-04-15  banana  1.64  \n",
       "2  8.73915  26.2365   59.0093   0  07-04-15  banana  1.64  \n",
       "3  8.73936  26.2416   58.9905   0  07-04-15  banana  1.64  \n",
       "4  8.73986  26.2462   58.9736   0  07-04-15  banana  1.64  "
      ],
      "text/html": "<div>\n<style scoped>\n    .dataframe tbody tr th:only-of-type {\n        vertical-align: middle;\n    }\n\n    .dataframe tbody tr th {\n        vertical-align: top;\n    }\n\n    .dataframe thead th {\n        text-align: right;\n    }\n</style>\n<table border=\"1\" class=\"dataframe\">\n  <thead>\n    <tr style=\"text-align: right;\">\n      <th></th>\n      <th>time</th>\n      <th>R1</th>\n      <th>R2</th>\n      <th>R3</th>\n      <th>R4</th>\n      <th>R5</th>\n      <th>R6</th>\n      <th>R7</th>\n      <th>R8</th>\n      <th>Temp.</th>\n      <th>Humidity</th>\n      <th>id</th>\n      <th>date</th>\n      <th>class</th>\n      <th>dt</th>\n    </tr>\n  </thead>\n  <tbody>\n    <tr>\n      <th>0</th>\n      <td>12.490250</td>\n      <td>12.8621</td>\n      <td>10.3683</td>\n      <td>10.4383</td>\n      <td>11.6699</td>\n      <td>13.4931</td>\n      <td>13.3423</td>\n      <td>8.04169</td>\n      <td>8.73901</td>\n      <td>26.2257</td>\n      <td>59.0528</td>\n      <td>0</td>\n      <td>07-04-15</td>\n      <td>banana</td>\n      <td>1.64</td>\n    </tr>\n    <tr>\n      <th>1</th>\n      <td>12.490528</td>\n      <td>12.8617</td>\n      <td>10.3682</td>\n      <td>10.4375</td>\n      <td>11.6697</td>\n      <td>13.4927</td>\n      <td>13.3412</td>\n      <td>8.04133</td>\n      <td>8.73908</td>\n      <td>26.2308</td>\n      <td>59.0299</td>\n      <td>0</td>\n      <td>07-04-15</td>\n      <td>banana</td>\n      <td>1.64</td>\n    </tr>\n    <tr>\n      <th>2</th>\n      <td>12.490806</td>\n      <td>12.8607</td>\n      <td>10.3686</td>\n      <td>10.4370</td>\n      <td>11.6696</td>\n      <td>13.4924</td>\n      <td>13.3405</td>\n      <td>8.04101</td>\n      <td>8.73915</td>\n      <td>26.2365</td>\n      <td>59.0093</td>\n      <td>0</td>\n      <td>07-04-15</td>\n      <td>banana</td>\n      <td>1.64</td>\n    </tr>\n    <tr>\n      <th>3</th>\n      <td>12.491084</td>\n      <td>12.8602</td>\n      <td>10.3686</td>\n      <td>10.4370</td>\n      <td>11.6697</td>\n      <td>13.4921</td>\n      <td>13.3398</td>\n      <td>8.04086</td>\n      <td>8.73936</td>\n      <td>26.2416</td>\n      <td>58.9905</td>\n      <td>0</td>\n      <td>07-04-15</td>\n      <td>banana</td>\n      <td>1.64</td>\n    </tr>\n    <tr>\n      <th>4</th>\n      <td>12.491373</td>\n      <td>12.8595</td>\n      <td>10.3688</td>\n      <td>10.4374</td>\n      <td>11.6699</td>\n      <td>13.4919</td>\n      <td>13.3390</td>\n      <td>8.04087</td>\n      <td>8.73986</td>\n      <td>26.2462</td>\n      <td>58.9736</td>\n      <td>0</td>\n      <td>07-04-15</td>\n      <td>banana</td>\n      <td>1.64</td>\n    </tr>\n  </tbody>\n</table>\n</div>"
     },
     "metadata": {},
     "execution_count": 89
    }
   ],
   "source": [
    "df_db.set_index(np.arange(df_db.shape[0]), inplace=True)\n",
    "df_db['time'] += df_db['t0']\n",
    "df_db.drop(['t0'], axis=1, inplace=True)\n",
    "df_db.head()"
   ]
  },
  {
   "cell_type": "code",
   "execution_count": 91,
   "metadata": {},
   "outputs": [],
   "source": [
    "from sklearn.model_selection import train_test_split"
   ]
  },
  {
   "cell_type": "code",
   "execution_count": 93,
   "metadata": {},
   "outputs": [],
   "source": [
    "features = ['R1', 'R2', 'R3', 'R4', 'R5', 'R5', 'R6', 'R7', 'R8', 'Temp.', 'Humidity']\n",
    "xtrain,xtest,ytrain,ytest = train_test_split(df_db[features].values, df_db['class'].values, train_size=0.7)"
   ]
  },
  {
   "cell_type": "code",
   "execution_count": 94,
   "metadata": {},
   "outputs": [],
   "source": [
    "from sklearn.linear_model import LogisticRegressionCV\n",
    "\n",
    "clf_lr = LogisticRegressionCV()\n",
    "###\n",
    "# Default: k-fold: 5-fold cross validation\n",
    "#          Cs: A grid of Cs values are chosen in a logarithmic scale between 1e-4 and 1e4\n",
    "#          penalty: l2\n",
    "#          solver: lbfgs\n",
    "#          tol: 1e-4\n",
    "#          max_iter: 100\n",
    "###"
   ]
  },
  {
   "cell_type": "code",
   "execution_count": 96,
   "metadata": {},
   "outputs": [
    {
     "output_type": "execute_result",
     "data": {
      "text/plain": [
       "LogisticRegressionCV(Cs=10, class_weight=None, cv='warn', dual=False,\n",
       "           fit_intercept=True, intercept_scaling=1.0, max_iter=100,\n",
       "           multi_class='warn', n_jobs=None, penalty='l2',\n",
       "           random_state=None, refit=True, scoring=None, solver='lbfgs',\n",
       "           tol=0.0001, verbose=0)"
      ]
     },
     "metadata": {},
     "execution_count": 96
    }
   ],
   "source": [
    "clf_lr.fit(xtrain, ytrain)"
   ]
  },
  {
   "cell_type": "code",
   "execution_count": 100,
   "metadata": {},
   "outputs": [
    {
     "output_type": "execute_result",
     "data": {
      "text/plain": [
       "0.5759280655045964"
      ]
     },
     "metadata": {},
     "execution_count": 100
    }
   ],
   "source": [
    "clf_lr.score(xtest, ytest)"
   ]
  },
  {
   "cell_type": "code",
   "execution_count": null,
   "metadata": {},
   "outputs": [],
   "source": []
  },
  {
   "cell_type": "code",
   "execution_count": 103,
   "metadata": {},
   "outputs": [],
   "source": [
    "from sklearn.svm import SVC"
   ]
  },
  {
   "cell_type": "code",
   "execution_count": 104,
   "metadata": {},
   "outputs": [],
   "source": [
    "C = 1e-2\n",
    "clf_svm = SVC(C=C)"
   ]
  },
  {
   "cell_type": "code",
   "execution_count": 105,
   "metadata": {},
   "outputs": [
    {
     "output_type": "execute_result",
     "data": {
      "text/plain": [
       "SVC(C=0.01, cache_size=200, class_weight=None, coef0=0.0,\n",
       "  decision_function_shape='ovr', degree=3, gamma='auto_deprecated',\n",
       "  kernel='rbf', max_iter=-1, probability=False, random_state=None,\n",
       "  shrinking=True, tol=0.001, verbose=False)"
      ]
     },
     "metadata": {},
     "execution_count": 105
    }
   ],
   "source": [
    "clf_svm.fit(xtrain, ytrain)"
   ]
  },
  {
   "cell_type": "code",
   "execution_count": 108,
   "metadata": {},
   "outputs": [
    {
     "output_type": "execute_result",
     "data": {
      "text/plain": [
       "0.9369999067090542"
      ]
     },
     "metadata": {},
     "execution_count": 108
    }
   ],
   "source": [
    "clf_svm.score(xtest, ytest)"
   ]
  },
  {
   "cell_type": "code",
   "execution_count": 109,
   "metadata": {},
   "outputs": [
    {
     "output_type": "stream",
     "name": "stdout",
     "text": [
      "2020-12-06 01:28:32.381654\n"
     ]
    }
   ],
   "source": [
    "from datetime import datetime\n",
    "now = datetime.now()\n",
    "print(now)"
   ]
  },
  {
   "cell_type": "code",
   "execution_count": 110,
   "metadata": {},
   "outputs": [],
   "source": [
    "import pickle\n",
    "with open('svc_test_model.pkl', 'wb') as f:\n",
    "    pickle.dump(clf_svm, f)"
   ]
  },
  {
   "cell_type": "code",
   "execution_count": 111,
   "metadata": {},
   "outputs": [],
   "source": [
    "with open('svc_test_model.pkl', 'rb') as f:\n",
    "    clf_svm = pickle.load(f)"
   ]
  },
  {
   "cell_type": "code",
   "execution_count": null,
   "metadata": {},
   "outputs": [],
   "source": []
  }
 ]
}
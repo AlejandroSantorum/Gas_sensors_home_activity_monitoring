{
 "metadata": {
  "language_info": {
   "codemirror_mode": {
    "name": "ipython",
    "version": 3
   },
   "file_extension": ".py",
   "mimetype": "text/x-python",
   "name": "python",
   "nbconvert_exporter": "python",
   "pygments_lexer": "ipython3",
   "version": "3.7.3-final"
  },
  "orig_nbformat": 2,
  "kernelspec": {
   "name": "python3",
   "display_name": "Python 3",
   "language": "python"
  }
 },
 "nbformat": 4,
 "nbformat_minor": 2,
 "cells": [
  {
   "cell_type": "code",
   "execution_count": 169,
   "metadata": {},
   "outputs": [],
   "source": [
    "import math\n",
    "import time\n",
    "import pickle\n",
    "import pandas as pd\n",
    "import numpy as np\n",
    "from sklearn.model_selection import train_test_split\n",
    "from sklearn.linear_model import LogisticRegressionCV\n",
    "from sklearn.svm import SVC"
   ]
  },
  {
   "source": [
    "# Testing how to split correctly the data"
   ],
   "cell_type": "markdown",
   "metadata": {}
  },
  {
   "cell_type": "code",
   "execution_count": 17,
   "metadata": {},
   "outputs": [
    {
     "output_type": "execute_result",
     "data": {
      "text/plain": [
       "(100, 5)"
      ]
     },
     "metadata": {},
     "execution_count": 17
    }
   ],
   "source": [
    "df_meta = pd.read_csv('../datasets/raw/HT_Sensor_metadata.dat', delimiter='\\t+')\n",
    "df_meta.shape"
   ]
  },
  {
   "cell_type": "code",
   "execution_count": 77,
   "metadata": {},
   "outputs": [
    {
     "output_type": "stream",
     "name": "stdout",
     "text": [
      "[58 22 94 39 89 50 35 88  0 73 65 29 62 43 27  4 41 23 98 47 75 36 18 26\n 78 10 96 25 13 51]\n"
     ]
    }
   ],
   "source": [
    "len_indices = df_meta.shape[0]\n",
    "test_perc = 0.3\n",
    "n_test = math.floor(test_perc * len_indices)\n",
    "test_indices = np.random.choice(np.arange(100), size=n_test, replace=False)\n",
    "print(test_indices)"
   ]
  },
  {
   "cell_type": "code",
   "execution_count": 108,
   "metadata": {},
   "outputs": [
    {
     "output_type": "execute_result",
     "data": {
      "text/plain": [
       "(928991, 12)"
      ]
     },
     "metadata": {},
     "execution_count": 108
    }
   ],
   "source": [
    "df_db = pd.read_csv('../datasets/raw/HT_Sensor_dataset.dat', delimiter='\\s+')\n",
    "df_db.shape"
   ]
  },
  {
   "cell_type": "code",
   "execution_count": 109,
   "metadata": {},
   "outputs": [
    {
     "output_type": "execute_result",
     "data": {
      "text/plain": [
       "        time       R1       R2       R3       R4       R5       R6       R7  \\\n",
       "0  12.490250  12.8621  10.3683  10.4383  11.6699  13.4931  13.3423  8.04169   \n",
       "1  12.490528  12.8617  10.3682  10.4375  11.6697  13.4927  13.3412  8.04133   \n",
       "2  12.490806  12.8607  10.3686  10.4370  11.6696  13.4924  13.3405  8.04101   \n",
       "3  12.491084  12.8602  10.3686  10.4370  11.6697  13.4921  13.3398  8.04086   \n",
       "4  12.491373  12.8595  10.3688  10.4374  11.6699  13.4919  13.3390  8.04087   \n",
       "\n",
       "        R8    Temp.  Humidity  id      date   class     t0    dt  \n",
       "0  8.73901  26.2257   59.0528   0  07-04-15  banana  13.49  1.64  \n",
       "1  8.73908  26.2308   59.0299   0  07-04-15  banana  13.49  1.64  \n",
       "2  8.73915  26.2365   59.0093   0  07-04-15  banana  13.49  1.64  \n",
       "3  8.73936  26.2416   58.9905   0  07-04-15  banana  13.49  1.64  \n",
       "4  8.73986  26.2462   58.9736   0  07-04-15  banana  13.49  1.64  "
      ],
      "text/html": "<div>\n<style scoped>\n    .dataframe tbody tr th:only-of-type {\n        vertical-align: middle;\n    }\n\n    .dataframe tbody tr th {\n        vertical-align: top;\n    }\n\n    .dataframe thead th {\n        text-align: right;\n    }\n</style>\n<table border=\"1\" class=\"dataframe\">\n  <thead>\n    <tr style=\"text-align: right;\">\n      <th></th>\n      <th>time</th>\n      <th>R1</th>\n      <th>R2</th>\n      <th>R3</th>\n      <th>R4</th>\n      <th>R5</th>\n      <th>R6</th>\n      <th>R7</th>\n      <th>R8</th>\n      <th>Temp.</th>\n      <th>Humidity</th>\n      <th>id</th>\n      <th>date</th>\n      <th>class</th>\n      <th>t0</th>\n      <th>dt</th>\n    </tr>\n  </thead>\n  <tbody>\n    <tr>\n      <th>0</th>\n      <td>12.490250</td>\n      <td>12.8621</td>\n      <td>10.3683</td>\n      <td>10.4383</td>\n      <td>11.6699</td>\n      <td>13.4931</td>\n      <td>13.3423</td>\n      <td>8.04169</td>\n      <td>8.73901</td>\n      <td>26.2257</td>\n      <td>59.0528</td>\n      <td>0</td>\n      <td>07-04-15</td>\n      <td>banana</td>\n      <td>13.49</td>\n      <td>1.64</td>\n    </tr>\n    <tr>\n      <th>1</th>\n      <td>12.490528</td>\n      <td>12.8617</td>\n      <td>10.3682</td>\n      <td>10.4375</td>\n      <td>11.6697</td>\n      <td>13.4927</td>\n      <td>13.3412</td>\n      <td>8.04133</td>\n      <td>8.73908</td>\n      <td>26.2308</td>\n      <td>59.0299</td>\n      <td>0</td>\n      <td>07-04-15</td>\n      <td>banana</td>\n      <td>13.49</td>\n      <td>1.64</td>\n    </tr>\n    <tr>\n      <th>2</th>\n      <td>12.490806</td>\n      <td>12.8607</td>\n      <td>10.3686</td>\n      <td>10.4370</td>\n      <td>11.6696</td>\n      <td>13.4924</td>\n      <td>13.3405</td>\n      <td>8.04101</td>\n      <td>8.73915</td>\n      <td>26.2365</td>\n      <td>59.0093</td>\n      <td>0</td>\n      <td>07-04-15</td>\n      <td>banana</td>\n      <td>13.49</td>\n      <td>1.64</td>\n    </tr>\n    <tr>\n      <th>3</th>\n      <td>12.491084</td>\n      <td>12.8602</td>\n      <td>10.3686</td>\n      <td>10.4370</td>\n      <td>11.6697</td>\n      <td>13.4921</td>\n      <td>13.3398</td>\n      <td>8.04086</td>\n      <td>8.73936</td>\n      <td>26.2416</td>\n      <td>58.9905</td>\n      <td>0</td>\n      <td>07-04-15</td>\n      <td>banana</td>\n      <td>13.49</td>\n      <td>1.64</td>\n    </tr>\n    <tr>\n      <th>4</th>\n      <td>12.491373</td>\n      <td>12.8595</td>\n      <td>10.3688</td>\n      <td>10.4374</td>\n      <td>11.6699</td>\n      <td>13.4919</td>\n      <td>13.3390</td>\n      <td>8.04087</td>\n      <td>8.73986</td>\n      <td>26.2462</td>\n      <td>58.9736</td>\n      <td>0</td>\n      <td>07-04-15</td>\n      <td>banana</td>\n      <td>13.49</td>\n      <td>1.64</td>\n    </tr>\n  </tbody>\n</table>\n</div>"
     },
     "metadata": {},
     "execution_count": 109
    }
   ],
   "source": [
    "df_db.set_index('id', inplace=True)\n",
    "df_db = df_db.join(df_meta, how='inner')\n",
    "df_db['time'] += df_db['t0']\n",
    "df_db.set_index(np.arange(df_db.shape[0]), inplace=True)\n",
    "df_db.head()"
   ]
  },
  {
   "cell_type": "code",
   "execution_count": 132,
   "metadata": {},
   "outputs": [
    {
     "output_type": "stream",
     "name": "stdout",
     "text": [
      "928991\n"
     ]
    }
   ],
   "source": [
    "bool_list = []\n",
    "for item in df_db.id:\n",
    "    if item in test_indices:\n",
    "        bool_list.append(True)\n",
    "    else:\n",
    "        bool_list.append(False)\n",
    "\n",
    "print(len(bool_list))\n",
    "bool_list = np.asarray(bool_list)"
   ]
  },
  {
   "cell_type": "code",
   "execution_count": 133,
   "metadata": {
    "tags": []
   },
   "outputs": [
    {
     "output_type": "execute_result",
     "data": {
      "text/plain": [
       "        time       R1       R2       R3       R4       R5       R6       R7  \\\n",
       "0  12.490250  12.8621  10.3683  10.4383  11.6699  13.4931  13.3423  8.04169   \n",
       "1  12.490528  12.8617  10.3682  10.4375  11.6697  13.4927  13.3412  8.04133   \n",
       "2  12.490806  12.8607  10.3686  10.4370  11.6696  13.4924  13.3405  8.04101   \n",
       "3  12.491084  12.8602  10.3686  10.4370  11.6697  13.4921  13.3398  8.04086   \n",
       "4  12.491373  12.8595  10.3688  10.4374  11.6699  13.4919  13.3390  8.04087   \n",
       "\n",
       "        R8    Temp.  Humidity  id      date   class     t0    dt  \n",
       "0  8.73901  26.2257   59.0528   0  07-04-15  banana  13.49  1.64  \n",
       "1  8.73908  26.2308   59.0299   0  07-04-15  banana  13.49  1.64  \n",
       "2  8.73915  26.2365   59.0093   0  07-04-15  banana  13.49  1.64  \n",
       "3  8.73936  26.2416   58.9905   0  07-04-15  banana  13.49  1.64  \n",
       "4  8.73986  26.2462   58.9736   0  07-04-15  banana  13.49  1.64  "
      ],
      "text/html": "<div>\n<style scoped>\n    .dataframe tbody tr th:only-of-type {\n        vertical-align: middle;\n    }\n\n    .dataframe tbody tr th {\n        vertical-align: top;\n    }\n\n    .dataframe thead th {\n        text-align: right;\n    }\n</style>\n<table border=\"1\" class=\"dataframe\">\n  <thead>\n    <tr style=\"text-align: right;\">\n      <th></th>\n      <th>time</th>\n      <th>R1</th>\n      <th>R2</th>\n      <th>R3</th>\n      <th>R4</th>\n      <th>R5</th>\n      <th>R6</th>\n      <th>R7</th>\n      <th>R8</th>\n      <th>Temp.</th>\n      <th>Humidity</th>\n      <th>id</th>\n      <th>date</th>\n      <th>class</th>\n      <th>t0</th>\n      <th>dt</th>\n    </tr>\n  </thead>\n  <tbody>\n    <tr>\n      <th>0</th>\n      <td>12.490250</td>\n      <td>12.8621</td>\n      <td>10.3683</td>\n      <td>10.4383</td>\n      <td>11.6699</td>\n      <td>13.4931</td>\n      <td>13.3423</td>\n      <td>8.04169</td>\n      <td>8.73901</td>\n      <td>26.2257</td>\n      <td>59.0528</td>\n      <td>0</td>\n      <td>07-04-15</td>\n      <td>banana</td>\n      <td>13.49</td>\n      <td>1.64</td>\n    </tr>\n    <tr>\n      <th>1</th>\n      <td>12.490528</td>\n      <td>12.8617</td>\n      <td>10.3682</td>\n      <td>10.4375</td>\n      <td>11.6697</td>\n      <td>13.4927</td>\n      <td>13.3412</td>\n      <td>8.04133</td>\n      <td>8.73908</td>\n      <td>26.2308</td>\n      <td>59.0299</td>\n      <td>0</td>\n      <td>07-04-15</td>\n      <td>banana</td>\n      <td>13.49</td>\n      <td>1.64</td>\n    </tr>\n    <tr>\n      <th>2</th>\n      <td>12.490806</td>\n      <td>12.8607</td>\n      <td>10.3686</td>\n      <td>10.4370</td>\n      <td>11.6696</td>\n      <td>13.4924</td>\n      <td>13.3405</td>\n      <td>8.04101</td>\n      <td>8.73915</td>\n      <td>26.2365</td>\n      <td>59.0093</td>\n      <td>0</td>\n      <td>07-04-15</td>\n      <td>banana</td>\n      <td>13.49</td>\n      <td>1.64</td>\n    </tr>\n    <tr>\n      <th>3</th>\n      <td>12.491084</td>\n      <td>12.8602</td>\n      <td>10.3686</td>\n      <td>10.4370</td>\n      <td>11.6697</td>\n      <td>13.4921</td>\n      <td>13.3398</td>\n      <td>8.04086</td>\n      <td>8.73936</td>\n      <td>26.2416</td>\n      <td>58.9905</td>\n      <td>0</td>\n      <td>07-04-15</td>\n      <td>banana</td>\n      <td>13.49</td>\n      <td>1.64</td>\n    </tr>\n    <tr>\n      <th>4</th>\n      <td>12.491373</td>\n      <td>12.8595</td>\n      <td>10.3688</td>\n      <td>10.4374</td>\n      <td>11.6699</td>\n      <td>13.4919</td>\n      <td>13.3390</td>\n      <td>8.04087</td>\n      <td>8.73986</td>\n      <td>26.2462</td>\n      <td>58.9736</td>\n      <td>0</td>\n      <td>07-04-15</td>\n      <td>banana</td>\n      <td>13.49</td>\n      <td>1.64</td>\n    </tr>\n  </tbody>\n</table>\n</div>"
     },
     "metadata": {},
     "execution_count": 133
    }
   ],
   "source": [
    "df_test = df_db[bool_list]\n",
    "df_test.head()"
   ]
  },
  {
   "cell_type": "code",
   "execution_count": 136,
   "metadata": {},
   "outputs": [
    {
     "output_type": "execute_result",
     "data": {
      "text/plain": [
       "            time       R1       R2       R3       R4       R5       R6  \\\n",
       "12815  18.610202  12.9677  10.3815  10.4593  11.6892  12.3805  14.1287   \n",
       "12816  18.610491  12.9671  10.3814  10.4590  11.6886  12.3812  14.1280   \n",
       "12817  18.610769  12.9668  10.3813  10.4592  11.6881  12.3820  14.1274   \n",
       "12818  18.611047  12.9659  10.3815  10.4593  11.6881  12.3828  14.1274   \n",
       "12819  18.611325  12.9648  10.3816  10.4592  11.6878  12.3833  14.1269   \n",
       "\n",
       "            R7       R8    Temp.  Humidity  id      date class     t0    dt  \n",
       "12815  7.18476  7.77536  25.7545   58.9859   1  07-05-15  wine  19.61  0.54  \n",
       "12816  7.18530  7.77512  25.7560   58.9812   1  07-05-15  wine  19.61  0.54  \n",
       "12817  7.18579  7.77504  25.7573   58.9749   1  07-05-15  wine  19.61  0.54  \n",
       "12818  7.18636  7.77498  25.7585   58.9683   1  07-05-15  wine  19.61  0.54  \n",
       "12819  7.18663  7.77478  25.7596   58.9623   1  07-05-15  wine  19.61  0.54  "
      ],
      "text/html": "<div>\n<style scoped>\n    .dataframe tbody tr th:only-of-type {\n        vertical-align: middle;\n    }\n\n    .dataframe tbody tr th {\n        vertical-align: top;\n    }\n\n    .dataframe thead th {\n        text-align: right;\n    }\n</style>\n<table border=\"1\" class=\"dataframe\">\n  <thead>\n    <tr style=\"text-align: right;\">\n      <th></th>\n      <th>time</th>\n      <th>R1</th>\n      <th>R2</th>\n      <th>R3</th>\n      <th>R4</th>\n      <th>R5</th>\n      <th>R6</th>\n      <th>R7</th>\n      <th>R8</th>\n      <th>Temp.</th>\n      <th>Humidity</th>\n      <th>id</th>\n      <th>date</th>\n      <th>class</th>\n      <th>t0</th>\n      <th>dt</th>\n    </tr>\n  </thead>\n  <tbody>\n    <tr>\n      <th>12815</th>\n      <td>18.610202</td>\n      <td>12.9677</td>\n      <td>10.3815</td>\n      <td>10.4593</td>\n      <td>11.6892</td>\n      <td>12.3805</td>\n      <td>14.1287</td>\n      <td>7.18476</td>\n      <td>7.77536</td>\n      <td>25.7545</td>\n      <td>58.9859</td>\n      <td>1</td>\n      <td>07-05-15</td>\n      <td>wine</td>\n      <td>19.61</td>\n      <td>0.54</td>\n    </tr>\n    <tr>\n      <th>12816</th>\n      <td>18.610491</td>\n      <td>12.9671</td>\n      <td>10.3814</td>\n      <td>10.4590</td>\n      <td>11.6886</td>\n      <td>12.3812</td>\n      <td>14.1280</td>\n      <td>7.18530</td>\n      <td>7.77512</td>\n      <td>25.7560</td>\n      <td>58.9812</td>\n      <td>1</td>\n      <td>07-05-15</td>\n      <td>wine</td>\n      <td>19.61</td>\n      <td>0.54</td>\n    </tr>\n    <tr>\n      <th>12817</th>\n      <td>18.610769</td>\n      <td>12.9668</td>\n      <td>10.3813</td>\n      <td>10.4592</td>\n      <td>11.6881</td>\n      <td>12.3820</td>\n      <td>14.1274</td>\n      <td>7.18579</td>\n      <td>7.77504</td>\n      <td>25.7573</td>\n      <td>58.9749</td>\n      <td>1</td>\n      <td>07-05-15</td>\n      <td>wine</td>\n      <td>19.61</td>\n      <td>0.54</td>\n    </tr>\n    <tr>\n      <th>12818</th>\n      <td>18.611047</td>\n      <td>12.9659</td>\n      <td>10.3815</td>\n      <td>10.4593</td>\n      <td>11.6881</td>\n      <td>12.3828</td>\n      <td>14.1274</td>\n      <td>7.18636</td>\n      <td>7.77498</td>\n      <td>25.7585</td>\n      <td>58.9683</td>\n      <td>1</td>\n      <td>07-05-15</td>\n      <td>wine</td>\n      <td>19.61</td>\n      <td>0.54</td>\n    </tr>\n    <tr>\n      <th>12819</th>\n      <td>18.611325</td>\n      <td>12.9648</td>\n      <td>10.3816</td>\n      <td>10.4592</td>\n      <td>11.6878</td>\n      <td>12.3833</td>\n      <td>14.1269</td>\n      <td>7.18663</td>\n      <td>7.77478</td>\n      <td>25.7596</td>\n      <td>58.9623</td>\n      <td>1</td>\n      <td>07-05-15</td>\n      <td>wine</td>\n      <td>19.61</td>\n      <td>0.54</td>\n    </tr>\n  </tbody>\n</table>\n</div>"
     },
     "metadata": {},
     "execution_count": 136
    }
   ],
   "source": [
    "df_train = df_db[~bool_list]\n",
    "df_train.head()"
   ]
  },
  {
   "cell_type": "code",
   "execution_count": null,
   "metadata": {},
   "outputs": [],
   "source": []
  },
  {
   "source": [
    "# Building the final splitting function"
   ],
   "cell_type": "markdown",
   "metadata": {}
  },
  {
   "cell_type": "code",
   "execution_count": 170,
   "metadata": {},
   "outputs": [],
   "source": [
    "def split_series_byID(n_ids, train_perc, joint_df):\n",
    "    # Sampling test indices\n",
    "    n_train = math.floor(train_perc * n_ids)\n",
    "    train_indices = np.random.choice(np.arange(len_indices), size=n_train, replace=False)\n",
    "\n",
    "    # Selecting train/test examples\n",
    "    bool_list = []\n",
    "    for id in joint_df.id:\n",
    "        if id in train_indices:\n",
    "            bool_list.append(True)\n",
    "        else:\n",
    "            bool_list.append(False)\n",
    "\n",
    "    # We will use the fact it is a numpy array later\n",
    "    bool_list = np.asarray(bool_list)\n",
    "\n",
    "    df_train = joint_df[bool_list]\n",
    "    # The fact that bool_list is a np array allows us to just choose its complementary\n",
    "    df_test = joint_df[~bool_list]\n",
    "\n",
    "    return df_train, df_test"
   ]
  },
  {
   "cell_type": "code",
   "execution_count": 171,
   "metadata": {},
   "outputs": [
    {
     "output_type": "execute_result",
     "data": {
      "text/plain": [
       "(100, 5)"
      ]
     },
     "metadata": {},
     "execution_count": 171
    }
   ],
   "source": [
    "df_meta = pd.read_csv('../datasets/raw/HT_Sensor_metadata.dat', delimiter='\\t+')\n",
    "df_meta.shape"
   ]
  },
  {
   "cell_type": "code",
   "execution_count": 172,
   "metadata": {},
   "outputs": [
    {
     "output_type": "execute_result",
     "data": {
      "text/plain": [
       "(928991, 12)"
      ]
     },
     "metadata": {},
     "execution_count": 172
    }
   ],
   "source": [
    "df_db = pd.read_csv('../datasets/raw/HT_Sensor_dataset.dat', delimiter='\\s+')\n",
    "df_db.shape"
   ]
  },
  {
   "cell_type": "code",
   "execution_count": 173,
   "metadata": {},
   "outputs": [
    {
     "output_type": "execute_result",
     "data": {
      "text/plain": [
       "        time       R1       R2       R3       R4       R5       R6       R7  \\\n",
       "0  12.490250  12.8621  10.3683  10.4383  11.6699  13.4931  13.3423  8.04169   \n",
       "1  12.490528  12.8617  10.3682  10.4375  11.6697  13.4927  13.3412  8.04133   \n",
       "2  12.490806  12.8607  10.3686  10.4370  11.6696  13.4924  13.3405  8.04101   \n",
       "3  12.491084  12.8602  10.3686  10.4370  11.6697  13.4921  13.3398  8.04086   \n",
       "4  12.491373  12.8595  10.3688  10.4374  11.6699  13.4919  13.3390  8.04087   \n",
       "\n",
       "        R8    Temp.  Humidity  id      date   class     t0    dt  \n",
       "0  8.73901  26.2257   59.0528   0  07-04-15  banana  13.49  1.64  \n",
       "1  8.73908  26.2308   59.0299   0  07-04-15  banana  13.49  1.64  \n",
       "2  8.73915  26.2365   59.0093   0  07-04-15  banana  13.49  1.64  \n",
       "3  8.73936  26.2416   58.9905   0  07-04-15  banana  13.49  1.64  \n",
       "4  8.73986  26.2462   58.9736   0  07-04-15  banana  13.49  1.64  "
      ],
      "text/html": "<div>\n<style scoped>\n    .dataframe tbody tr th:only-of-type {\n        vertical-align: middle;\n    }\n\n    .dataframe tbody tr th {\n        vertical-align: top;\n    }\n\n    .dataframe thead th {\n        text-align: right;\n    }\n</style>\n<table border=\"1\" class=\"dataframe\">\n  <thead>\n    <tr style=\"text-align: right;\">\n      <th></th>\n      <th>time</th>\n      <th>R1</th>\n      <th>R2</th>\n      <th>R3</th>\n      <th>R4</th>\n      <th>R5</th>\n      <th>R6</th>\n      <th>R7</th>\n      <th>R8</th>\n      <th>Temp.</th>\n      <th>Humidity</th>\n      <th>id</th>\n      <th>date</th>\n      <th>class</th>\n      <th>t0</th>\n      <th>dt</th>\n    </tr>\n  </thead>\n  <tbody>\n    <tr>\n      <th>0</th>\n      <td>12.490250</td>\n      <td>12.8621</td>\n      <td>10.3683</td>\n      <td>10.4383</td>\n      <td>11.6699</td>\n      <td>13.4931</td>\n      <td>13.3423</td>\n      <td>8.04169</td>\n      <td>8.73901</td>\n      <td>26.2257</td>\n      <td>59.0528</td>\n      <td>0</td>\n      <td>07-04-15</td>\n      <td>banana</td>\n      <td>13.49</td>\n      <td>1.64</td>\n    </tr>\n    <tr>\n      <th>1</th>\n      <td>12.490528</td>\n      <td>12.8617</td>\n      <td>10.3682</td>\n      <td>10.4375</td>\n      <td>11.6697</td>\n      <td>13.4927</td>\n      <td>13.3412</td>\n      <td>8.04133</td>\n      <td>8.73908</td>\n      <td>26.2308</td>\n      <td>59.0299</td>\n      <td>0</td>\n      <td>07-04-15</td>\n      <td>banana</td>\n      <td>13.49</td>\n      <td>1.64</td>\n    </tr>\n    <tr>\n      <th>2</th>\n      <td>12.490806</td>\n      <td>12.8607</td>\n      <td>10.3686</td>\n      <td>10.4370</td>\n      <td>11.6696</td>\n      <td>13.4924</td>\n      <td>13.3405</td>\n      <td>8.04101</td>\n      <td>8.73915</td>\n      <td>26.2365</td>\n      <td>59.0093</td>\n      <td>0</td>\n      <td>07-04-15</td>\n      <td>banana</td>\n      <td>13.49</td>\n      <td>1.64</td>\n    </tr>\n    <tr>\n      <th>3</th>\n      <td>12.491084</td>\n      <td>12.8602</td>\n      <td>10.3686</td>\n      <td>10.4370</td>\n      <td>11.6697</td>\n      <td>13.4921</td>\n      <td>13.3398</td>\n      <td>8.04086</td>\n      <td>8.73936</td>\n      <td>26.2416</td>\n      <td>58.9905</td>\n      <td>0</td>\n      <td>07-04-15</td>\n      <td>banana</td>\n      <td>13.49</td>\n      <td>1.64</td>\n    </tr>\n    <tr>\n      <th>4</th>\n      <td>12.491373</td>\n      <td>12.8595</td>\n      <td>10.3688</td>\n      <td>10.4374</td>\n      <td>11.6699</td>\n      <td>13.4919</td>\n      <td>13.3390</td>\n      <td>8.04087</td>\n      <td>8.73986</td>\n      <td>26.2462</td>\n      <td>58.9736</td>\n      <td>0</td>\n      <td>07-04-15</td>\n      <td>banana</td>\n      <td>13.49</td>\n      <td>1.64</td>\n    </tr>\n  </tbody>\n</table>\n</div>"
     },
     "metadata": {},
     "execution_count": 173
    }
   ],
   "source": [
    "df_db.set_index('id', inplace=True)\n",
    "df_db = df_db.join(df_meta, how='inner')\n",
    "df_db['time'] += df_db['t0']\n",
    "df_db.set_index(np.arange(df_db.shape[0]), inplace=True)\n",
    "df_db.head()"
   ]
  },
  {
   "cell_type": "code",
   "execution_count": 174,
   "metadata": {},
   "outputs": [],
   "source": [
    "n_ids = 100\n",
    "train_perc = 0.75\n",
    "df_train, df_test = split_series_byID(n_ids, train_perc, df_db)"
   ]
  },
  {
   "cell_type": "code",
   "execution_count": 175,
   "metadata": {},
   "outputs": [
    {
     "output_type": "stream",
     "name": "stdout",
     "text": [
      "(710889, 16)\n"
     ]
    },
    {
     "output_type": "execute_result",
     "data": {
      "text/plain": [
       "        time       R1       R2       R3       R4       R5       R6       R7  \\\n",
       "0  12.490250  12.8621  10.3683  10.4383  11.6699  13.4931  13.3423  8.04169   \n",
       "1  12.490528  12.8617  10.3682  10.4375  11.6697  13.4927  13.3412  8.04133   \n",
       "2  12.490806  12.8607  10.3686  10.4370  11.6696  13.4924  13.3405  8.04101   \n",
       "3  12.491084  12.8602  10.3686  10.4370  11.6697  13.4921  13.3398  8.04086   \n",
       "4  12.491373  12.8595  10.3688  10.4374  11.6699  13.4919  13.3390  8.04087   \n",
       "\n",
       "        R8    Temp.  Humidity  id      date   class     t0    dt  \n",
       "0  8.73901  26.2257   59.0528   0  07-04-15  banana  13.49  1.64  \n",
       "1  8.73908  26.2308   59.0299   0  07-04-15  banana  13.49  1.64  \n",
       "2  8.73915  26.2365   59.0093   0  07-04-15  banana  13.49  1.64  \n",
       "3  8.73936  26.2416   58.9905   0  07-04-15  banana  13.49  1.64  \n",
       "4  8.73986  26.2462   58.9736   0  07-04-15  banana  13.49  1.64  "
      ],
      "text/html": "<div>\n<style scoped>\n    .dataframe tbody tr th:only-of-type {\n        vertical-align: middle;\n    }\n\n    .dataframe tbody tr th {\n        vertical-align: top;\n    }\n\n    .dataframe thead th {\n        text-align: right;\n    }\n</style>\n<table border=\"1\" class=\"dataframe\">\n  <thead>\n    <tr style=\"text-align: right;\">\n      <th></th>\n      <th>time</th>\n      <th>R1</th>\n      <th>R2</th>\n      <th>R3</th>\n      <th>R4</th>\n      <th>R5</th>\n      <th>R6</th>\n      <th>R7</th>\n      <th>R8</th>\n      <th>Temp.</th>\n      <th>Humidity</th>\n      <th>id</th>\n      <th>date</th>\n      <th>class</th>\n      <th>t0</th>\n      <th>dt</th>\n    </tr>\n  </thead>\n  <tbody>\n    <tr>\n      <th>0</th>\n      <td>12.490250</td>\n      <td>12.8621</td>\n      <td>10.3683</td>\n      <td>10.4383</td>\n      <td>11.6699</td>\n      <td>13.4931</td>\n      <td>13.3423</td>\n      <td>8.04169</td>\n      <td>8.73901</td>\n      <td>26.2257</td>\n      <td>59.0528</td>\n      <td>0</td>\n      <td>07-04-15</td>\n      <td>banana</td>\n      <td>13.49</td>\n      <td>1.64</td>\n    </tr>\n    <tr>\n      <th>1</th>\n      <td>12.490528</td>\n      <td>12.8617</td>\n      <td>10.3682</td>\n      <td>10.4375</td>\n      <td>11.6697</td>\n      <td>13.4927</td>\n      <td>13.3412</td>\n      <td>8.04133</td>\n      <td>8.73908</td>\n      <td>26.2308</td>\n      <td>59.0299</td>\n      <td>0</td>\n      <td>07-04-15</td>\n      <td>banana</td>\n      <td>13.49</td>\n      <td>1.64</td>\n    </tr>\n    <tr>\n      <th>2</th>\n      <td>12.490806</td>\n      <td>12.8607</td>\n      <td>10.3686</td>\n      <td>10.4370</td>\n      <td>11.6696</td>\n      <td>13.4924</td>\n      <td>13.3405</td>\n      <td>8.04101</td>\n      <td>8.73915</td>\n      <td>26.2365</td>\n      <td>59.0093</td>\n      <td>0</td>\n      <td>07-04-15</td>\n      <td>banana</td>\n      <td>13.49</td>\n      <td>1.64</td>\n    </tr>\n    <tr>\n      <th>3</th>\n      <td>12.491084</td>\n      <td>12.8602</td>\n      <td>10.3686</td>\n      <td>10.4370</td>\n      <td>11.6697</td>\n      <td>13.4921</td>\n      <td>13.3398</td>\n      <td>8.04086</td>\n      <td>8.73936</td>\n      <td>26.2416</td>\n      <td>58.9905</td>\n      <td>0</td>\n      <td>07-04-15</td>\n      <td>banana</td>\n      <td>13.49</td>\n      <td>1.64</td>\n    </tr>\n    <tr>\n      <th>4</th>\n      <td>12.491373</td>\n      <td>12.8595</td>\n      <td>10.3688</td>\n      <td>10.4374</td>\n      <td>11.6699</td>\n      <td>13.4919</td>\n      <td>13.3390</td>\n      <td>8.04087</td>\n      <td>8.73986</td>\n      <td>26.2462</td>\n      <td>58.9736</td>\n      <td>0</td>\n      <td>07-04-15</td>\n      <td>banana</td>\n      <td>13.49</td>\n      <td>1.64</td>\n    </tr>\n  </tbody>\n</table>\n</div>"
     },
     "metadata": {},
     "execution_count": 175
    }
   ],
   "source": [
    "print(df_train.shape)\n",
    "df_train.head()"
   ]
  },
  {
   "cell_type": "code",
   "execution_count": 176,
   "metadata": {},
   "outputs": [
    {
     "output_type": "stream",
     "name": "stdout",
     "text": [
      "(218102, 16)\n"
     ]
    },
    {
     "output_type": "execute_result",
     "data": {
      "text/plain": [
       "           time       R1       R2       R3       R4       R5       R6  \\\n",
       "31227  5.490119  11.5751  8.32428  8.43391  9.40930  11.1259  11.9891   \n",
       "31228  5.490397  11.5752  8.32434  8.43402  9.40951  11.1259  11.9892   \n",
       "31229  5.490675  11.5744  8.32410  8.43397  9.40937  11.1258  11.9895   \n",
       "31230  5.490953  11.5737  8.32389  8.43393  9.40957  11.1258  11.9897   \n",
       "31231  5.491239  11.5737  8.32413  8.43404  9.40992  11.1260  11.9900   \n",
       "\n",
       "            R7       R8    Temp.  Humidity  id      date   class    t0    dt  \n",
       "31227  7.89410  5.69867  26.3565   65.0541   3  07-09-15  banana  6.49  0.72  \n",
       "31228  7.89354  5.69871  26.3559   65.0520   3  07-09-15  banana  6.49  0.72  \n",
       "31229  7.89248  5.69865  26.3553   65.0500   3  07-09-15  banana  6.49  0.72  \n",
       "31230  7.89151  5.69859  26.3548   65.0483   3  07-09-15  banana  6.49  0.72  \n",
       "31231  7.89078  5.69853  26.3544   65.0467   3  07-09-15  banana  6.49  0.72  "
      ],
      "text/html": "<div>\n<style scoped>\n    .dataframe tbody tr th:only-of-type {\n        vertical-align: middle;\n    }\n\n    .dataframe tbody tr th {\n        vertical-align: top;\n    }\n\n    .dataframe thead th {\n        text-align: right;\n    }\n</style>\n<table border=\"1\" class=\"dataframe\">\n  <thead>\n    <tr style=\"text-align: right;\">\n      <th></th>\n      <th>time</th>\n      <th>R1</th>\n      <th>R2</th>\n      <th>R3</th>\n      <th>R4</th>\n      <th>R5</th>\n      <th>R6</th>\n      <th>R7</th>\n      <th>R8</th>\n      <th>Temp.</th>\n      <th>Humidity</th>\n      <th>id</th>\n      <th>date</th>\n      <th>class</th>\n      <th>t0</th>\n      <th>dt</th>\n    </tr>\n  </thead>\n  <tbody>\n    <tr>\n      <th>31227</th>\n      <td>5.490119</td>\n      <td>11.5751</td>\n      <td>8.32428</td>\n      <td>8.43391</td>\n      <td>9.40930</td>\n      <td>11.1259</td>\n      <td>11.9891</td>\n      <td>7.89410</td>\n      <td>5.69867</td>\n      <td>26.3565</td>\n      <td>65.0541</td>\n      <td>3</td>\n      <td>07-09-15</td>\n      <td>banana</td>\n      <td>6.49</td>\n      <td>0.72</td>\n    </tr>\n    <tr>\n      <th>31228</th>\n      <td>5.490397</td>\n      <td>11.5752</td>\n      <td>8.32434</td>\n      <td>8.43402</td>\n      <td>9.40951</td>\n      <td>11.1259</td>\n      <td>11.9892</td>\n      <td>7.89354</td>\n      <td>5.69871</td>\n      <td>26.3559</td>\n      <td>65.0520</td>\n      <td>3</td>\n      <td>07-09-15</td>\n      <td>banana</td>\n      <td>6.49</td>\n      <td>0.72</td>\n    </tr>\n    <tr>\n      <th>31229</th>\n      <td>5.490675</td>\n      <td>11.5744</td>\n      <td>8.32410</td>\n      <td>8.43397</td>\n      <td>9.40937</td>\n      <td>11.1258</td>\n      <td>11.9895</td>\n      <td>7.89248</td>\n      <td>5.69865</td>\n      <td>26.3553</td>\n      <td>65.0500</td>\n      <td>3</td>\n      <td>07-09-15</td>\n      <td>banana</td>\n      <td>6.49</td>\n      <td>0.72</td>\n    </tr>\n    <tr>\n      <th>31230</th>\n      <td>5.490953</td>\n      <td>11.5737</td>\n      <td>8.32389</td>\n      <td>8.43393</td>\n      <td>9.40957</td>\n      <td>11.1258</td>\n      <td>11.9897</td>\n      <td>7.89151</td>\n      <td>5.69859</td>\n      <td>26.3548</td>\n      <td>65.0483</td>\n      <td>3</td>\n      <td>07-09-15</td>\n      <td>banana</td>\n      <td>6.49</td>\n      <td>0.72</td>\n    </tr>\n    <tr>\n      <th>31231</th>\n      <td>5.491239</td>\n      <td>11.5737</td>\n      <td>8.32413</td>\n      <td>8.43404</td>\n      <td>9.40992</td>\n      <td>11.1260</td>\n      <td>11.9900</td>\n      <td>7.89078</td>\n      <td>5.69853</td>\n      <td>26.3544</td>\n      <td>65.0467</td>\n      <td>3</td>\n      <td>07-09-15</td>\n      <td>banana</td>\n      <td>6.49</td>\n      <td>0.72</td>\n    </tr>\n  </tbody>\n</table>\n</div>"
     },
     "metadata": {},
     "execution_count": 176
    }
   ],
   "source": [
    "print(df_test.shape)\n",
    "df_test.head()"
   ]
  },
  {
   "cell_type": "code",
   "execution_count": null,
   "metadata": {},
   "outputs": [],
   "source": []
  },
  {
   "cell_type": "code",
   "execution_count": null,
   "metadata": {},
   "outputs": [],
   "source": []
  },
  {
   "cell_type": "code",
   "execution_count": 162,
   "metadata": {},
   "outputs": [],
   "source": [
    "features = ['R1', 'R2', 'R3', 'R4', 'R5', 'R5', 'R6', 'R7', 'R8', 'Temp.', 'Humidity']\n",
    "xtrain, ytrain = df_train[features].values, df_train['class'].values\n",
    "xtest, ytest = df_test[features].values, df_test['class'].values"
   ]
  },
  {
   "cell_type": "code",
   "execution_count": 168,
   "metadata": {},
   "outputs": [
    {
     "output_type": "stream",
     "name": "stdout",
     "text": [
      "(703127, 11)\n(703127,)\n(225864, 11)\n(225864,)\n"
     ]
    }
   ],
   "source": [
    "print(xtrain.shape)\n",
    "print(ytrain.shape)\n",
    "print(xtest.shape)\n",
    "print(ytest.shape)"
   ]
  },
  {
   "cell_type": "code",
   "execution_count": 165,
   "metadata": {},
   "outputs": [],
   "source": [
    "C = 1e-2\n",
    "clf_svm = SVC(C=C)"
   ]
  },
  {
   "cell_type": "code",
   "execution_count": 166,
   "metadata": {},
   "outputs": [
    {
     "output_type": "stream",
     "name": "stdout",
     "text": [
      "==> Tiempo transcurrido de entrenamiento (horas): 2.160339769191212\n"
     ]
    }
   ],
   "source": [
    "start_t = time.time()\n",
    "\n",
    "clf_svm.fit(xtrain, ytrain)\n",
    "\n",
    "end_t = time.time()\n",
    "\n",
    "print('==> Tiempo transcurrido de entrenamiento (horas):', (end_t-start_t)/(60*60))"
   ]
  },
  {
   "cell_type": "code",
   "execution_count": 167,
   "metadata": {},
   "outputs": [
    {
     "output_type": "execute_result",
     "data": {
      "text/plain": [
       "0.3754338894201821"
      ]
     },
     "metadata": {},
     "execution_count": 167
    }
   ],
   "source": [
    "clf_svm.score(xtest, ytest)"
   ]
  },
  {
   "cell_type": "code",
   "execution_count": null,
   "metadata": {},
   "outputs": [],
   "source": []
  },
  {
   "cell_type": "code",
   "execution_count": 177,
   "metadata": {},
   "outputs": [],
   "source": [
    "clf_lr = LogisticRegressionCV()\n",
    "###\n",
    "# Default: k-fold: 5-fold cross validation\n",
    "#          Cs: A grid of Cs values are chosen in a logarithmic scale between 1e-4 and 1e4\n",
    "#          penalty: l2\n",
    "#          solver: lbfgs\n",
    "#          tol: 1e-4\n",
    "#          max_iter: 100\n",
    "###"
   ]
  },
  {
   "cell_type": "code",
   "execution_count": 178,
   "metadata": {},
   "outputs": [
    {
     "output_type": "execute_result",
     "data": {
      "text/plain": [
       "LogisticRegressionCV(Cs=10, class_weight=None, cv='warn', dual=False,\n",
       "           fit_intercept=True, intercept_scaling=1.0, max_iter=100,\n",
       "           multi_class='warn', n_jobs=None, penalty='l2',\n",
       "           random_state=None, refit=True, scoring=None, solver='lbfgs',\n",
       "           tol=0.0001, verbose=0)"
      ]
     },
     "metadata": {},
     "execution_count": 178
    }
   ],
   "source": [
    "clf_lr.fit(xtrain, ytrain)"
   ]
  },
  {
   "cell_type": "code",
   "execution_count": 179,
   "metadata": {},
   "outputs": [
    {
     "output_type": "execute_result",
     "data": {
      "text/plain": [
       "0.552509474728155"
      ]
     },
     "metadata": {},
     "execution_count": 179
    }
   ],
   "source": [
    "clf_lr.score(xtest, ytest)"
   ]
  },
  {
   "cell_type": "code",
   "execution_count": null,
   "metadata": {},
   "outputs": [],
   "source": []
  }
 ]
}
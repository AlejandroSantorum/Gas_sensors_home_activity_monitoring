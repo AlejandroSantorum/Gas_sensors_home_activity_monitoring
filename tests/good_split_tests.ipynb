{
 "cells": [
  {
   "cell_type": "code",
   "execution_count": 6,
   "metadata": {},
   "outputs": [],
   "source": [
    "%load_ext autoreload\n",
    "%autoreload 2"
   ]
  },
  {
   "cell_type": "code",
   "execution_count": 12,
   "metadata": {},
   "outputs": [],
   "source": [
    "import math\n",
    "import time\n",
    "import pickle\n",
    "import pandas as pd\n",
    "import numpy as np\n",
    "from sklearn.model_selection import train_test_split\n",
    "from sklearn.linear_model import LogisticRegressionCV\n",
    "from sklearn.svm import SVC"
   ]
  },
  {
   "cell_type": "markdown",
   "metadata": {},
   "source": [
    "# Testing how to split correctly the data"
   ]
  },
  {
   "cell_type": "code",
   "execution_count": 17,
   "metadata": {},
   "outputs": [
    {
     "data": {
      "text/plain": [
       "(100, 5)"
      ]
     },
     "execution_count": 17,
     "metadata": {},
     "output_type": "execute_result"
    }
   ],
   "source": [
    "df_meta = pd.read_csv('../datasets/raw/HT_Sensor_metadata.dat', delimiter='\\t+')\n",
    "df_meta.shape"
   ]
  },
  {
   "cell_type": "code",
   "execution_count": 77,
   "metadata": {},
   "outputs": [
    {
     "name": "stdout",
     "output_type": "stream",
     "text": [
      "[58 22 94 39 89 50 35 88  0 73 65 29 62 43 27  4 41 23 98 47 75 36 18 26\n",
      " 78 10 96 25 13 51]\n"
     ]
    }
   ],
   "source": [
    "len_indices = df_meta.shape[0]\n",
    "test_perc = 0.3\n",
    "n_test = math.floor(test_perc * len_indices)\n",
    "test_indices = np.random.choice(np.arange(100), size=n_test, replace=False)\n",
    "print(test_indices)"
   ]
  },
  {
   "cell_type": "code",
   "execution_count": 108,
   "metadata": {},
   "outputs": [
    {
     "data": {
      "text/plain": [
       "(928991, 12)"
      ]
     },
     "execution_count": 108,
     "metadata": {},
     "output_type": "execute_result"
    }
   ],
   "source": [
    "df_db = pd.read_csv('../datasets/raw/HT_Sensor_dataset.dat', delimiter='\\s+')\n",
    "df_db.shape"
   ]
  },
  {
   "cell_type": "code",
   "execution_count": 109,
   "metadata": {},
   "outputs": [
    {
     "data": {
      "text/html": [
       "<div>\n",
       "<style scoped>\n",
       "    .dataframe tbody tr th:only-of-type {\n",
       "        vertical-align: middle;\n",
       "    }\n",
       "\n",
       "    .dataframe tbody tr th {\n",
       "        vertical-align: top;\n",
       "    }\n",
       "\n",
       "    .dataframe thead th {\n",
       "        text-align: right;\n",
       "    }\n",
       "</style>\n",
       "<table border=\"1\" class=\"dataframe\">\n",
       "  <thead>\n",
       "    <tr style=\"text-align: right;\">\n",
       "      <th></th>\n",
       "      <th>time</th>\n",
       "      <th>R1</th>\n",
       "      <th>R2</th>\n",
       "      <th>R3</th>\n",
       "      <th>R4</th>\n",
       "      <th>R5</th>\n",
       "      <th>R6</th>\n",
       "      <th>R7</th>\n",
       "      <th>R8</th>\n",
       "      <th>Temp.</th>\n",
       "      <th>Humidity</th>\n",
       "      <th>id</th>\n",
       "      <th>date</th>\n",
       "      <th>class</th>\n",
       "      <th>t0</th>\n",
       "      <th>dt</th>\n",
       "    </tr>\n",
       "  </thead>\n",
       "  <tbody>\n",
       "    <tr>\n",
       "      <th>0</th>\n",
       "      <td>12.490250</td>\n",
       "      <td>12.8621</td>\n",
       "      <td>10.3683</td>\n",
       "      <td>10.4383</td>\n",
       "      <td>11.6699</td>\n",
       "      <td>13.4931</td>\n",
       "      <td>13.3423</td>\n",
       "      <td>8.04169</td>\n",
       "      <td>8.73901</td>\n",
       "      <td>26.2257</td>\n",
       "      <td>59.0528</td>\n",
       "      <td>0</td>\n",
       "      <td>07-04-15</td>\n",
       "      <td>banana</td>\n",
       "      <td>13.49</td>\n",
       "      <td>1.64</td>\n",
       "    </tr>\n",
       "    <tr>\n",
       "      <th>1</th>\n",
       "      <td>12.490528</td>\n",
       "      <td>12.8617</td>\n",
       "      <td>10.3682</td>\n",
       "      <td>10.4375</td>\n",
       "      <td>11.6697</td>\n",
       "      <td>13.4927</td>\n",
       "      <td>13.3412</td>\n",
       "      <td>8.04133</td>\n",
       "      <td>8.73908</td>\n",
       "      <td>26.2308</td>\n",
       "      <td>59.0299</td>\n",
       "      <td>0</td>\n",
       "      <td>07-04-15</td>\n",
       "      <td>banana</td>\n",
       "      <td>13.49</td>\n",
       "      <td>1.64</td>\n",
       "    </tr>\n",
       "    <tr>\n",
       "      <th>2</th>\n",
       "      <td>12.490806</td>\n",
       "      <td>12.8607</td>\n",
       "      <td>10.3686</td>\n",
       "      <td>10.4370</td>\n",
       "      <td>11.6696</td>\n",
       "      <td>13.4924</td>\n",
       "      <td>13.3405</td>\n",
       "      <td>8.04101</td>\n",
       "      <td>8.73915</td>\n",
       "      <td>26.2365</td>\n",
       "      <td>59.0093</td>\n",
       "      <td>0</td>\n",
       "      <td>07-04-15</td>\n",
       "      <td>banana</td>\n",
       "      <td>13.49</td>\n",
       "      <td>1.64</td>\n",
       "    </tr>\n",
       "    <tr>\n",
       "      <th>3</th>\n",
       "      <td>12.491084</td>\n",
       "      <td>12.8602</td>\n",
       "      <td>10.3686</td>\n",
       "      <td>10.4370</td>\n",
       "      <td>11.6697</td>\n",
       "      <td>13.4921</td>\n",
       "      <td>13.3398</td>\n",
       "      <td>8.04086</td>\n",
       "      <td>8.73936</td>\n",
       "      <td>26.2416</td>\n",
       "      <td>58.9905</td>\n",
       "      <td>0</td>\n",
       "      <td>07-04-15</td>\n",
       "      <td>banana</td>\n",
       "      <td>13.49</td>\n",
       "      <td>1.64</td>\n",
       "    </tr>\n",
       "    <tr>\n",
       "      <th>4</th>\n",
       "      <td>12.491373</td>\n",
       "      <td>12.8595</td>\n",
       "      <td>10.3688</td>\n",
       "      <td>10.4374</td>\n",
       "      <td>11.6699</td>\n",
       "      <td>13.4919</td>\n",
       "      <td>13.3390</td>\n",
       "      <td>8.04087</td>\n",
       "      <td>8.73986</td>\n",
       "      <td>26.2462</td>\n",
       "      <td>58.9736</td>\n",
       "      <td>0</td>\n",
       "      <td>07-04-15</td>\n",
       "      <td>banana</td>\n",
       "      <td>13.49</td>\n",
       "      <td>1.64</td>\n",
       "    </tr>\n",
       "  </tbody>\n",
       "</table>\n",
       "</div>"
      ],
      "text/plain": [
       "        time       R1       R2       R3       R4       R5       R6       R7  \\\n",
       "0  12.490250  12.8621  10.3683  10.4383  11.6699  13.4931  13.3423  8.04169   \n",
       "1  12.490528  12.8617  10.3682  10.4375  11.6697  13.4927  13.3412  8.04133   \n",
       "2  12.490806  12.8607  10.3686  10.4370  11.6696  13.4924  13.3405  8.04101   \n",
       "3  12.491084  12.8602  10.3686  10.4370  11.6697  13.4921  13.3398  8.04086   \n",
       "4  12.491373  12.8595  10.3688  10.4374  11.6699  13.4919  13.3390  8.04087   \n",
       "\n",
       "        R8    Temp.  Humidity  id      date   class     t0    dt  \n",
       "0  8.73901  26.2257   59.0528   0  07-04-15  banana  13.49  1.64  \n",
       "1  8.73908  26.2308   59.0299   0  07-04-15  banana  13.49  1.64  \n",
       "2  8.73915  26.2365   59.0093   0  07-04-15  banana  13.49  1.64  \n",
       "3  8.73936  26.2416   58.9905   0  07-04-15  banana  13.49  1.64  \n",
       "4  8.73986  26.2462   58.9736   0  07-04-15  banana  13.49  1.64  "
      ]
     },
     "execution_count": 109,
     "metadata": {},
     "output_type": "execute_result"
    }
   ],
   "source": [
    "df_db.set_index('id', inplace=True)\n",
    "df_db = df_db.join(df_meta, how='inner')\n",
    "df_db['time'] += df_db['t0']\n",
    "df_db.set_index(np.arange(df_db.shape[0]), inplace=True)\n",
    "df_db.head()"
   ]
  },
  {
   "cell_type": "code",
   "execution_count": 132,
   "metadata": {},
   "outputs": [
    {
     "name": "stdout",
     "output_type": "stream",
     "text": [
      "928991\n"
     ]
    }
   ],
   "source": [
    "bool_list = []\n",
    "for item in df_db.id:\n",
    "    if item in test_indices:\n",
    "        bool_list.append(True)\n",
    "    else:\n",
    "        bool_list.append(False)\n",
    "\n",
    "print(len(bool_list))\n",
    "bool_list = np.asarray(bool_list)"
   ]
  },
  {
   "cell_type": "code",
   "execution_count": 133,
   "metadata": {
    "tags": []
   },
   "outputs": [
    {
     "data": {
      "text/html": [
       "<div>\n",
       "<style scoped>\n",
       "    .dataframe tbody tr th:only-of-type {\n",
       "        vertical-align: middle;\n",
       "    }\n",
       "\n",
       "    .dataframe tbody tr th {\n",
       "        vertical-align: top;\n",
       "    }\n",
       "\n",
       "    .dataframe thead th {\n",
       "        text-align: right;\n",
       "    }\n",
       "</style>\n",
       "<table border=\"1\" class=\"dataframe\">\n",
       "  <thead>\n",
       "    <tr style=\"text-align: right;\">\n",
       "      <th></th>\n",
       "      <th>time</th>\n",
       "      <th>R1</th>\n",
       "      <th>R2</th>\n",
       "      <th>R3</th>\n",
       "      <th>R4</th>\n",
       "      <th>R5</th>\n",
       "      <th>R6</th>\n",
       "      <th>R7</th>\n",
       "      <th>R8</th>\n",
       "      <th>Temp.</th>\n",
       "      <th>Humidity</th>\n",
       "      <th>id</th>\n",
       "      <th>date</th>\n",
       "      <th>class</th>\n",
       "      <th>t0</th>\n",
       "      <th>dt</th>\n",
       "    </tr>\n",
       "  </thead>\n",
       "  <tbody>\n",
       "    <tr>\n",
       "      <th>0</th>\n",
       "      <td>12.490250</td>\n",
       "      <td>12.8621</td>\n",
       "      <td>10.3683</td>\n",
       "      <td>10.4383</td>\n",
       "      <td>11.6699</td>\n",
       "      <td>13.4931</td>\n",
       "      <td>13.3423</td>\n",
       "      <td>8.04169</td>\n",
       "      <td>8.73901</td>\n",
       "      <td>26.2257</td>\n",
       "      <td>59.0528</td>\n",
       "      <td>0</td>\n",
       "      <td>07-04-15</td>\n",
       "      <td>banana</td>\n",
       "      <td>13.49</td>\n",
       "      <td>1.64</td>\n",
       "    </tr>\n",
       "    <tr>\n",
       "      <th>1</th>\n",
       "      <td>12.490528</td>\n",
       "      <td>12.8617</td>\n",
       "      <td>10.3682</td>\n",
       "      <td>10.4375</td>\n",
       "      <td>11.6697</td>\n",
       "      <td>13.4927</td>\n",
       "      <td>13.3412</td>\n",
       "      <td>8.04133</td>\n",
       "      <td>8.73908</td>\n",
       "      <td>26.2308</td>\n",
       "      <td>59.0299</td>\n",
       "      <td>0</td>\n",
       "      <td>07-04-15</td>\n",
       "      <td>banana</td>\n",
       "      <td>13.49</td>\n",
       "      <td>1.64</td>\n",
       "    </tr>\n",
       "    <tr>\n",
       "      <th>2</th>\n",
       "      <td>12.490806</td>\n",
       "      <td>12.8607</td>\n",
       "      <td>10.3686</td>\n",
       "      <td>10.4370</td>\n",
       "      <td>11.6696</td>\n",
       "      <td>13.4924</td>\n",
       "      <td>13.3405</td>\n",
       "      <td>8.04101</td>\n",
       "      <td>8.73915</td>\n",
       "      <td>26.2365</td>\n",
       "      <td>59.0093</td>\n",
       "      <td>0</td>\n",
       "      <td>07-04-15</td>\n",
       "      <td>banana</td>\n",
       "      <td>13.49</td>\n",
       "      <td>1.64</td>\n",
       "    </tr>\n",
       "    <tr>\n",
       "      <th>3</th>\n",
       "      <td>12.491084</td>\n",
       "      <td>12.8602</td>\n",
       "      <td>10.3686</td>\n",
       "      <td>10.4370</td>\n",
       "      <td>11.6697</td>\n",
       "      <td>13.4921</td>\n",
       "      <td>13.3398</td>\n",
       "      <td>8.04086</td>\n",
       "      <td>8.73936</td>\n",
       "      <td>26.2416</td>\n",
       "      <td>58.9905</td>\n",
       "      <td>0</td>\n",
       "      <td>07-04-15</td>\n",
       "      <td>banana</td>\n",
       "      <td>13.49</td>\n",
       "      <td>1.64</td>\n",
       "    </tr>\n",
       "    <tr>\n",
       "      <th>4</th>\n",
       "      <td>12.491373</td>\n",
       "      <td>12.8595</td>\n",
       "      <td>10.3688</td>\n",
       "      <td>10.4374</td>\n",
       "      <td>11.6699</td>\n",
       "      <td>13.4919</td>\n",
       "      <td>13.3390</td>\n",
       "      <td>8.04087</td>\n",
       "      <td>8.73986</td>\n",
       "      <td>26.2462</td>\n",
       "      <td>58.9736</td>\n",
       "      <td>0</td>\n",
       "      <td>07-04-15</td>\n",
       "      <td>banana</td>\n",
       "      <td>13.49</td>\n",
       "      <td>1.64</td>\n",
       "    </tr>\n",
       "  </tbody>\n",
       "</table>\n",
       "</div>"
      ],
      "text/plain": [
       "        time       R1       R2       R3       R4       R5       R6       R7  \\\n",
       "0  12.490250  12.8621  10.3683  10.4383  11.6699  13.4931  13.3423  8.04169   \n",
       "1  12.490528  12.8617  10.3682  10.4375  11.6697  13.4927  13.3412  8.04133   \n",
       "2  12.490806  12.8607  10.3686  10.4370  11.6696  13.4924  13.3405  8.04101   \n",
       "3  12.491084  12.8602  10.3686  10.4370  11.6697  13.4921  13.3398  8.04086   \n",
       "4  12.491373  12.8595  10.3688  10.4374  11.6699  13.4919  13.3390  8.04087   \n",
       "\n",
       "        R8    Temp.  Humidity  id      date   class     t0    dt  \n",
       "0  8.73901  26.2257   59.0528   0  07-04-15  banana  13.49  1.64  \n",
       "1  8.73908  26.2308   59.0299   0  07-04-15  banana  13.49  1.64  \n",
       "2  8.73915  26.2365   59.0093   0  07-04-15  banana  13.49  1.64  \n",
       "3  8.73936  26.2416   58.9905   0  07-04-15  banana  13.49  1.64  \n",
       "4  8.73986  26.2462   58.9736   0  07-04-15  banana  13.49  1.64  "
      ]
     },
     "execution_count": 133,
     "metadata": {},
     "output_type": "execute_result"
    }
   ],
   "source": [
    "df_test = df_db[bool_list]\n",
    "df_test.head()"
   ]
  },
  {
   "cell_type": "code",
   "execution_count": 136,
   "metadata": {},
   "outputs": [
    {
     "data": {
      "text/html": [
       "<div>\n",
       "<style scoped>\n",
       "    .dataframe tbody tr th:only-of-type {\n",
       "        vertical-align: middle;\n",
       "    }\n",
       "\n",
       "    .dataframe tbody tr th {\n",
       "        vertical-align: top;\n",
       "    }\n",
       "\n",
       "    .dataframe thead th {\n",
       "        text-align: right;\n",
       "    }\n",
       "</style>\n",
       "<table border=\"1\" class=\"dataframe\">\n",
       "  <thead>\n",
       "    <tr style=\"text-align: right;\">\n",
       "      <th></th>\n",
       "      <th>time</th>\n",
       "      <th>R1</th>\n",
       "      <th>R2</th>\n",
       "      <th>R3</th>\n",
       "      <th>R4</th>\n",
       "      <th>R5</th>\n",
       "      <th>R6</th>\n",
       "      <th>R7</th>\n",
       "      <th>R8</th>\n",
       "      <th>Temp.</th>\n",
       "      <th>Humidity</th>\n",
       "      <th>id</th>\n",
       "      <th>date</th>\n",
       "      <th>class</th>\n",
       "      <th>t0</th>\n",
       "      <th>dt</th>\n",
       "    </tr>\n",
       "  </thead>\n",
       "  <tbody>\n",
       "    <tr>\n",
       "      <th>12815</th>\n",
       "      <td>18.610202</td>\n",
       "      <td>12.9677</td>\n",
       "      <td>10.3815</td>\n",
       "      <td>10.4593</td>\n",
       "      <td>11.6892</td>\n",
       "      <td>12.3805</td>\n",
       "      <td>14.1287</td>\n",
       "      <td>7.18476</td>\n",
       "      <td>7.77536</td>\n",
       "      <td>25.7545</td>\n",
       "      <td>58.9859</td>\n",
       "      <td>1</td>\n",
       "      <td>07-05-15</td>\n",
       "      <td>wine</td>\n",
       "      <td>19.61</td>\n",
       "      <td>0.54</td>\n",
       "    </tr>\n",
       "    <tr>\n",
       "      <th>12816</th>\n",
       "      <td>18.610491</td>\n",
       "      <td>12.9671</td>\n",
       "      <td>10.3814</td>\n",
       "      <td>10.4590</td>\n",
       "      <td>11.6886</td>\n",
       "      <td>12.3812</td>\n",
       "      <td>14.1280</td>\n",
       "      <td>7.18530</td>\n",
       "      <td>7.77512</td>\n",
       "      <td>25.7560</td>\n",
       "      <td>58.9812</td>\n",
       "      <td>1</td>\n",
       "      <td>07-05-15</td>\n",
       "      <td>wine</td>\n",
       "      <td>19.61</td>\n",
       "      <td>0.54</td>\n",
       "    </tr>\n",
       "    <tr>\n",
       "      <th>12817</th>\n",
       "      <td>18.610769</td>\n",
       "      <td>12.9668</td>\n",
       "      <td>10.3813</td>\n",
       "      <td>10.4592</td>\n",
       "      <td>11.6881</td>\n",
       "      <td>12.3820</td>\n",
       "      <td>14.1274</td>\n",
       "      <td>7.18579</td>\n",
       "      <td>7.77504</td>\n",
       "      <td>25.7573</td>\n",
       "      <td>58.9749</td>\n",
       "      <td>1</td>\n",
       "      <td>07-05-15</td>\n",
       "      <td>wine</td>\n",
       "      <td>19.61</td>\n",
       "      <td>0.54</td>\n",
       "    </tr>\n",
       "    <tr>\n",
       "      <th>12818</th>\n",
       "      <td>18.611047</td>\n",
       "      <td>12.9659</td>\n",
       "      <td>10.3815</td>\n",
       "      <td>10.4593</td>\n",
       "      <td>11.6881</td>\n",
       "      <td>12.3828</td>\n",
       "      <td>14.1274</td>\n",
       "      <td>7.18636</td>\n",
       "      <td>7.77498</td>\n",
       "      <td>25.7585</td>\n",
       "      <td>58.9683</td>\n",
       "      <td>1</td>\n",
       "      <td>07-05-15</td>\n",
       "      <td>wine</td>\n",
       "      <td>19.61</td>\n",
       "      <td>0.54</td>\n",
       "    </tr>\n",
       "    <tr>\n",
       "      <th>12819</th>\n",
       "      <td>18.611325</td>\n",
       "      <td>12.9648</td>\n",
       "      <td>10.3816</td>\n",
       "      <td>10.4592</td>\n",
       "      <td>11.6878</td>\n",
       "      <td>12.3833</td>\n",
       "      <td>14.1269</td>\n",
       "      <td>7.18663</td>\n",
       "      <td>7.77478</td>\n",
       "      <td>25.7596</td>\n",
       "      <td>58.9623</td>\n",
       "      <td>1</td>\n",
       "      <td>07-05-15</td>\n",
       "      <td>wine</td>\n",
       "      <td>19.61</td>\n",
       "      <td>0.54</td>\n",
       "    </tr>\n",
       "  </tbody>\n",
       "</table>\n",
       "</div>"
      ],
      "text/plain": [
       "            time       R1       R2       R3       R4       R5       R6  \\\n",
       "12815  18.610202  12.9677  10.3815  10.4593  11.6892  12.3805  14.1287   \n",
       "12816  18.610491  12.9671  10.3814  10.4590  11.6886  12.3812  14.1280   \n",
       "12817  18.610769  12.9668  10.3813  10.4592  11.6881  12.3820  14.1274   \n",
       "12818  18.611047  12.9659  10.3815  10.4593  11.6881  12.3828  14.1274   \n",
       "12819  18.611325  12.9648  10.3816  10.4592  11.6878  12.3833  14.1269   \n",
       "\n",
       "            R7       R8    Temp.  Humidity  id      date class     t0    dt  \n",
       "12815  7.18476  7.77536  25.7545   58.9859   1  07-05-15  wine  19.61  0.54  \n",
       "12816  7.18530  7.77512  25.7560   58.9812   1  07-05-15  wine  19.61  0.54  \n",
       "12817  7.18579  7.77504  25.7573   58.9749   1  07-05-15  wine  19.61  0.54  \n",
       "12818  7.18636  7.77498  25.7585   58.9683   1  07-05-15  wine  19.61  0.54  \n",
       "12819  7.18663  7.77478  25.7596   58.9623   1  07-05-15  wine  19.61  0.54  "
      ]
     },
     "execution_count": 136,
     "metadata": {},
     "output_type": "execute_result"
    }
   ],
   "source": [
    "df_train = df_db[~bool_list]\n",
    "df_train.head()"
   ]
  },
  {
   "cell_type": "code",
   "execution_count": null,
   "metadata": {},
   "outputs": [],
   "source": []
  },
  {
   "cell_type": "markdown",
   "metadata": {},
   "source": [
    "# Building the final splitting function"
   ]
  },
  {
   "cell_type": "code",
   "execution_count": 170,
   "metadata": {},
   "outputs": [],
   "source": [
    "def split_series_byID(n_ids, train_perc, joint_df):\n",
    "    # Sampling test indices\n",
    "    n_train = math.floor(train_perc * n_ids)\n",
    "    train_indices = np.random.choice(np.arange(len_indices), size=n_train, replace=False)\n",
    "\n",
    "    # Selecting train/test examples\n",
    "    bool_list = []\n",
    "    for id in joint_df.id:\n",
    "        if id in train_indices:\n",
    "            bool_list.append(True)\n",
    "        else:\n",
    "            bool_list.append(False)\n",
    "\n",
    "    # We will use the fact it is a numpy array later\n",
    "    bool_list = np.asarray(bool_list)\n",
    "\n",
    "    df_train = joint_df[bool_list]\n",
    "    # The fact that bool_list is a np array allows us to just choose its complementary\n",
    "    df_test = joint_df[~bool_list]\n",
    "\n",
    "    return df_train, df_test"
   ]
  },
  {
   "cell_type": "code",
   "execution_count": 171,
   "metadata": {},
   "outputs": [
    {
     "data": {
      "text/plain": [
       "(100, 5)"
      ]
     },
     "execution_count": 171,
     "metadata": {},
     "output_type": "execute_result"
    }
   ],
   "source": [
    "df_meta = pd.read_csv('../datasets/raw/HT_Sensor_metadata.dat', delimiter='\\t+')\n",
    "df_meta.shape"
   ]
  },
  {
   "cell_type": "code",
   "execution_count": 172,
   "metadata": {},
   "outputs": [
    {
     "data": {
      "text/plain": [
       "(928991, 12)"
      ]
     },
     "execution_count": 172,
     "metadata": {},
     "output_type": "execute_result"
    }
   ],
   "source": [
    "df_db = pd.read_csv('../datasets/raw/HT_Sensor_dataset.dat', delimiter='\\s+')\n",
    "df_db.shape"
   ]
  },
  {
   "cell_type": "code",
   "execution_count": 173,
   "metadata": {},
   "outputs": [
    {
     "data": {
      "text/html": [
       "<div>\n",
       "<style scoped>\n",
       "    .dataframe tbody tr th:only-of-type {\n",
       "        vertical-align: middle;\n",
       "    }\n",
       "\n",
       "    .dataframe tbody tr th {\n",
       "        vertical-align: top;\n",
       "    }\n",
       "\n",
       "    .dataframe thead th {\n",
       "        text-align: right;\n",
       "    }\n",
       "</style>\n",
       "<table border=\"1\" class=\"dataframe\">\n",
       "  <thead>\n",
       "    <tr style=\"text-align: right;\">\n",
       "      <th></th>\n",
       "      <th>time</th>\n",
       "      <th>R1</th>\n",
       "      <th>R2</th>\n",
       "      <th>R3</th>\n",
       "      <th>R4</th>\n",
       "      <th>R5</th>\n",
       "      <th>R6</th>\n",
       "      <th>R7</th>\n",
       "      <th>R8</th>\n",
       "      <th>Temp.</th>\n",
       "      <th>Humidity</th>\n",
       "      <th>id</th>\n",
       "      <th>date</th>\n",
       "      <th>class</th>\n",
       "      <th>t0</th>\n",
       "      <th>dt</th>\n",
       "    </tr>\n",
       "  </thead>\n",
       "  <tbody>\n",
       "    <tr>\n",
       "      <th>0</th>\n",
       "      <td>12.490250</td>\n",
       "      <td>12.8621</td>\n",
       "      <td>10.3683</td>\n",
       "      <td>10.4383</td>\n",
       "      <td>11.6699</td>\n",
       "      <td>13.4931</td>\n",
       "      <td>13.3423</td>\n",
       "      <td>8.04169</td>\n",
       "      <td>8.73901</td>\n",
       "      <td>26.2257</td>\n",
       "      <td>59.0528</td>\n",
       "      <td>0</td>\n",
       "      <td>07-04-15</td>\n",
       "      <td>banana</td>\n",
       "      <td>13.49</td>\n",
       "      <td>1.64</td>\n",
       "    </tr>\n",
       "    <tr>\n",
       "      <th>1</th>\n",
       "      <td>12.490528</td>\n",
       "      <td>12.8617</td>\n",
       "      <td>10.3682</td>\n",
       "      <td>10.4375</td>\n",
       "      <td>11.6697</td>\n",
       "      <td>13.4927</td>\n",
       "      <td>13.3412</td>\n",
       "      <td>8.04133</td>\n",
       "      <td>8.73908</td>\n",
       "      <td>26.2308</td>\n",
       "      <td>59.0299</td>\n",
       "      <td>0</td>\n",
       "      <td>07-04-15</td>\n",
       "      <td>banana</td>\n",
       "      <td>13.49</td>\n",
       "      <td>1.64</td>\n",
       "    </tr>\n",
       "    <tr>\n",
       "      <th>2</th>\n",
       "      <td>12.490806</td>\n",
       "      <td>12.8607</td>\n",
       "      <td>10.3686</td>\n",
       "      <td>10.4370</td>\n",
       "      <td>11.6696</td>\n",
       "      <td>13.4924</td>\n",
       "      <td>13.3405</td>\n",
       "      <td>8.04101</td>\n",
       "      <td>8.73915</td>\n",
       "      <td>26.2365</td>\n",
       "      <td>59.0093</td>\n",
       "      <td>0</td>\n",
       "      <td>07-04-15</td>\n",
       "      <td>banana</td>\n",
       "      <td>13.49</td>\n",
       "      <td>1.64</td>\n",
       "    </tr>\n",
       "    <tr>\n",
       "      <th>3</th>\n",
       "      <td>12.491084</td>\n",
       "      <td>12.8602</td>\n",
       "      <td>10.3686</td>\n",
       "      <td>10.4370</td>\n",
       "      <td>11.6697</td>\n",
       "      <td>13.4921</td>\n",
       "      <td>13.3398</td>\n",
       "      <td>8.04086</td>\n",
       "      <td>8.73936</td>\n",
       "      <td>26.2416</td>\n",
       "      <td>58.9905</td>\n",
       "      <td>0</td>\n",
       "      <td>07-04-15</td>\n",
       "      <td>banana</td>\n",
       "      <td>13.49</td>\n",
       "      <td>1.64</td>\n",
       "    </tr>\n",
       "    <tr>\n",
       "      <th>4</th>\n",
       "      <td>12.491373</td>\n",
       "      <td>12.8595</td>\n",
       "      <td>10.3688</td>\n",
       "      <td>10.4374</td>\n",
       "      <td>11.6699</td>\n",
       "      <td>13.4919</td>\n",
       "      <td>13.3390</td>\n",
       "      <td>8.04087</td>\n",
       "      <td>8.73986</td>\n",
       "      <td>26.2462</td>\n",
       "      <td>58.9736</td>\n",
       "      <td>0</td>\n",
       "      <td>07-04-15</td>\n",
       "      <td>banana</td>\n",
       "      <td>13.49</td>\n",
       "      <td>1.64</td>\n",
       "    </tr>\n",
       "  </tbody>\n",
       "</table>\n",
       "</div>"
      ],
      "text/plain": [
       "        time       R1       R2       R3       R4       R5       R6       R7  \\\n",
       "0  12.490250  12.8621  10.3683  10.4383  11.6699  13.4931  13.3423  8.04169   \n",
       "1  12.490528  12.8617  10.3682  10.4375  11.6697  13.4927  13.3412  8.04133   \n",
       "2  12.490806  12.8607  10.3686  10.4370  11.6696  13.4924  13.3405  8.04101   \n",
       "3  12.491084  12.8602  10.3686  10.4370  11.6697  13.4921  13.3398  8.04086   \n",
       "4  12.491373  12.8595  10.3688  10.4374  11.6699  13.4919  13.3390  8.04087   \n",
       "\n",
       "        R8    Temp.  Humidity  id      date   class     t0    dt  \n",
       "0  8.73901  26.2257   59.0528   0  07-04-15  banana  13.49  1.64  \n",
       "1  8.73908  26.2308   59.0299   0  07-04-15  banana  13.49  1.64  \n",
       "2  8.73915  26.2365   59.0093   0  07-04-15  banana  13.49  1.64  \n",
       "3  8.73936  26.2416   58.9905   0  07-04-15  banana  13.49  1.64  \n",
       "4  8.73986  26.2462   58.9736   0  07-04-15  banana  13.49  1.64  "
      ]
     },
     "execution_count": 173,
     "metadata": {},
     "output_type": "execute_result"
    }
   ],
   "source": [
    "df_db.set_index('id', inplace=True)\n",
    "df_db = df_db.join(df_meta, how='inner')\n",
    "df_db['time'] += df_db['t0']\n",
    "df_db.set_index(np.arange(df_db.shape[0]), inplace=True)\n",
    "df_db.head()"
   ]
  },
  {
   "cell_type": "code",
   "execution_count": 174,
   "metadata": {},
   "outputs": [],
   "source": [
    "n_ids = 100\n",
    "train_perc = 0.75\n",
    "df_train, df_test = split_series_byID(n_ids, train_perc, df_db)"
   ]
  },
  {
   "cell_type": "code",
   "execution_count": 175,
   "metadata": {},
   "outputs": [
    {
     "name": "stdout",
     "output_type": "stream",
     "text": [
      "(710889, 16)\n"
     ]
    },
    {
     "data": {
      "text/html": [
       "<div>\n",
       "<style scoped>\n",
       "    .dataframe tbody tr th:only-of-type {\n",
       "        vertical-align: middle;\n",
       "    }\n",
       "\n",
       "    .dataframe tbody tr th {\n",
       "        vertical-align: top;\n",
       "    }\n",
       "\n",
       "    .dataframe thead th {\n",
       "        text-align: right;\n",
       "    }\n",
       "</style>\n",
       "<table border=\"1\" class=\"dataframe\">\n",
       "  <thead>\n",
       "    <tr style=\"text-align: right;\">\n",
       "      <th></th>\n",
       "      <th>time</th>\n",
       "      <th>R1</th>\n",
       "      <th>R2</th>\n",
       "      <th>R3</th>\n",
       "      <th>R4</th>\n",
       "      <th>R5</th>\n",
       "      <th>R6</th>\n",
       "      <th>R7</th>\n",
       "      <th>R8</th>\n",
       "      <th>Temp.</th>\n",
       "      <th>Humidity</th>\n",
       "      <th>id</th>\n",
       "      <th>date</th>\n",
       "      <th>class</th>\n",
       "      <th>t0</th>\n",
       "      <th>dt</th>\n",
       "    </tr>\n",
       "  </thead>\n",
       "  <tbody>\n",
       "    <tr>\n",
       "      <th>0</th>\n",
       "      <td>12.490250</td>\n",
       "      <td>12.8621</td>\n",
       "      <td>10.3683</td>\n",
       "      <td>10.4383</td>\n",
       "      <td>11.6699</td>\n",
       "      <td>13.4931</td>\n",
       "      <td>13.3423</td>\n",
       "      <td>8.04169</td>\n",
       "      <td>8.73901</td>\n",
       "      <td>26.2257</td>\n",
       "      <td>59.0528</td>\n",
       "      <td>0</td>\n",
       "      <td>07-04-15</td>\n",
       "      <td>banana</td>\n",
       "      <td>13.49</td>\n",
       "      <td>1.64</td>\n",
       "    </tr>\n",
       "    <tr>\n",
       "      <th>1</th>\n",
       "      <td>12.490528</td>\n",
       "      <td>12.8617</td>\n",
       "      <td>10.3682</td>\n",
       "      <td>10.4375</td>\n",
       "      <td>11.6697</td>\n",
       "      <td>13.4927</td>\n",
       "      <td>13.3412</td>\n",
       "      <td>8.04133</td>\n",
       "      <td>8.73908</td>\n",
       "      <td>26.2308</td>\n",
       "      <td>59.0299</td>\n",
       "      <td>0</td>\n",
       "      <td>07-04-15</td>\n",
       "      <td>banana</td>\n",
       "      <td>13.49</td>\n",
       "      <td>1.64</td>\n",
       "    </tr>\n",
       "    <tr>\n",
       "      <th>2</th>\n",
       "      <td>12.490806</td>\n",
       "      <td>12.8607</td>\n",
       "      <td>10.3686</td>\n",
       "      <td>10.4370</td>\n",
       "      <td>11.6696</td>\n",
       "      <td>13.4924</td>\n",
       "      <td>13.3405</td>\n",
       "      <td>8.04101</td>\n",
       "      <td>8.73915</td>\n",
       "      <td>26.2365</td>\n",
       "      <td>59.0093</td>\n",
       "      <td>0</td>\n",
       "      <td>07-04-15</td>\n",
       "      <td>banana</td>\n",
       "      <td>13.49</td>\n",
       "      <td>1.64</td>\n",
       "    </tr>\n",
       "    <tr>\n",
       "      <th>3</th>\n",
       "      <td>12.491084</td>\n",
       "      <td>12.8602</td>\n",
       "      <td>10.3686</td>\n",
       "      <td>10.4370</td>\n",
       "      <td>11.6697</td>\n",
       "      <td>13.4921</td>\n",
       "      <td>13.3398</td>\n",
       "      <td>8.04086</td>\n",
       "      <td>8.73936</td>\n",
       "      <td>26.2416</td>\n",
       "      <td>58.9905</td>\n",
       "      <td>0</td>\n",
       "      <td>07-04-15</td>\n",
       "      <td>banana</td>\n",
       "      <td>13.49</td>\n",
       "      <td>1.64</td>\n",
       "    </tr>\n",
       "    <tr>\n",
       "      <th>4</th>\n",
       "      <td>12.491373</td>\n",
       "      <td>12.8595</td>\n",
       "      <td>10.3688</td>\n",
       "      <td>10.4374</td>\n",
       "      <td>11.6699</td>\n",
       "      <td>13.4919</td>\n",
       "      <td>13.3390</td>\n",
       "      <td>8.04087</td>\n",
       "      <td>8.73986</td>\n",
       "      <td>26.2462</td>\n",
       "      <td>58.9736</td>\n",
       "      <td>0</td>\n",
       "      <td>07-04-15</td>\n",
       "      <td>banana</td>\n",
       "      <td>13.49</td>\n",
       "      <td>1.64</td>\n",
       "    </tr>\n",
       "  </tbody>\n",
       "</table>\n",
       "</div>"
      ],
      "text/plain": [
       "        time       R1       R2       R3       R4       R5       R6       R7  \\\n",
       "0  12.490250  12.8621  10.3683  10.4383  11.6699  13.4931  13.3423  8.04169   \n",
       "1  12.490528  12.8617  10.3682  10.4375  11.6697  13.4927  13.3412  8.04133   \n",
       "2  12.490806  12.8607  10.3686  10.4370  11.6696  13.4924  13.3405  8.04101   \n",
       "3  12.491084  12.8602  10.3686  10.4370  11.6697  13.4921  13.3398  8.04086   \n",
       "4  12.491373  12.8595  10.3688  10.4374  11.6699  13.4919  13.3390  8.04087   \n",
       "\n",
       "        R8    Temp.  Humidity  id      date   class     t0    dt  \n",
       "0  8.73901  26.2257   59.0528   0  07-04-15  banana  13.49  1.64  \n",
       "1  8.73908  26.2308   59.0299   0  07-04-15  banana  13.49  1.64  \n",
       "2  8.73915  26.2365   59.0093   0  07-04-15  banana  13.49  1.64  \n",
       "3  8.73936  26.2416   58.9905   0  07-04-15  banana  13.49  1.64  \n",
       "4  8.73986  26.2462   58.9736   0  07-04-15  banana  13.49  1.64  "
      ]
     },
     "execution_count": 175,
     "metadata": {},
     "output_type": "execute_result"
    }
   ],
   "source": [
    "print(df_train.shape)\n",
    "df_train.head()"
   ]
  },
  {
   "cell_type": "code",
   "execution_count": 176,
   "metadata": {},
   "outputs": [
    {
     "name": "stdout",
     "output_type": "stream",
     "text": [
      "(218102, 16)\n"
     ]
    },
    {
     "data": {
      "text/html": [
       "<div>\n",
       "<style scoped>\n",
       "    .dataframe tbody tr th:only-of-type {\n",
       "        vertical-align: middle;\n",
       "    }\n",
       "\n",
       "    .dataframe tbody tr th {\n",
       "        vertical-align: top;\n",
       "    }\n",
       "\n",
       "    .dataframe thead th {\n",
       "        text-align: right;\n",
       "    }\n",
       "</style>\n",
       "<table border=\"1\" class=\"dataframe\">\n",
       "  <thead>\n",
       "    <tr style=\"text-align: right;\">\n",
       "      <th></th>\n",
       "      <th>time</th>\n",
       "      <th>R1</th>\n",
       "      <th>R2</th>\n",
       "      <th>R3</th>\n",
       "      <th>R4</th>\n",
       "      <th>R5</th>\n",
       "      <th>R6</th>\n",
       "      <th>R7</th>\n",
       "      <th>R8</th>\n",
       "      <th>Temp.</th>\n",
       "      <th>Humidity</th>\n",
       "      <th>id</th>\n",
       "      <th>date</th>\n",
       "      <th>class</th>\n",
       "      <th>t0</th>\n",
       "      <th>dt</th>\n",
       "    </tr>\n",
       "  </thead>\n",
       "  <tbody>\n",
       "    <tr>\n",
       "      <th>31227</th>\n",
       "      <td>5.490119</td>\n",
       "      <td>11.5751</td>\n",
       "      <td>8.32428</td>\n",
       "      <td>8.43391</td>\n",
       "      <td>9.40930</td>\n",
       "      <td>11.1259</td>\n",
       "      <td>11.9891</td>\n",
       "      <td>7.89410</td>\n",
       "      <td>5.69867</td>\n",
       "      <td>26.3565</td>\n",
       "      <td>65.0541</td>\n",
       "      <td>3</td>\n",
       "      <td>07-09-15</td>\n",
       "      <td>banana</td>\n",
       "      <td>6.49</td>\n",
       "      <td>0.72</td>\n",
       "    </tr>\n",
       "    <tr>\n",
       "      <th>31228</th>\n",
       "      <td>5.490397</td>\n",
       "      <td>11.5752</td>\n",
       "      <td>8.32434</td>\n",
       "      <td>8.43402</td>\n",
       "      <td>9.40951</td>\n",
       "      <td>11.1259</td>\n",
       "      <td>11.9892</td>\n",
       "      <td>7.89354</td>\n",
       "      <td>5.69871</td>\n",
       "      <td>26.3559</td>\n",
       "      <td>65.0520</td>\n",
       "      <td>3</td>\n",
       "      <td>07-09-15</td>\n",
       "      <td>banana</td>\n",
       "      <td>6.49</td>\n",
       "      <td>0.72</td>\n",
       "    </tr>\n",
       "    <tr>\n",
       "      <th>31229</th>\n",
       "      <td>5.490675</td>\n",
       "      <td>11.5744</td>\n",
       "      <td>8.32410</td>\n",
       "      <td>8.43397</td>\n",
       "      <td>9.40937</td>\n",
       "      <td>11.1258</td>\n",
       "      <td>11.9895</td>\n",
       "      <td>7.89248</td>\n",
       "      <td>5.69865</td>\n",
       "      <td>26.3553</td>\n",
       "      <td>65.0500</td>\n",
       "      <td>3</td>\n",
       "      <td>07-09-15</td>\n",
       "      <td>banana</td>\n",
       "      <td>6.49</td>\n",
       "      <td>0.72</td>\n",
       "    </tr>\n",
       "    <tr>\n",
       "      <th>31230</th>\n",
       "      <td>5.490953</td>\n",
       "      <td>11.5737</td>\n",
       "      <td>8.32389</td>\n",
       "      <td>8.43393</td>\n",
       "      <td>9.40957</td>\n",
       "      <td>11.1258</td>\n",
       "      <td>11.9897</td>\n",
       "      <td>7.89151</td>\n",
       "      <td>5.69859</td>\n",
       "      <td>26.3548</td>\n",
       "      <td>65.0483</td>\n",
       "      <td>3</td>\n",
       "      <td>07-09-15</td>\n",
       "      <td>banana</td>\n",
       "      <td>6.49</td>\n",
       "      <td>0.72</td>\n",
       "    </tr>\n",
       "    <tr>\n",
       "      <th>31231</th>\n",
       "      <td>5.491239</td>\n",
       "      <td>11.5737</td>\n",
       "      <td>8.32413</td>\n",
       "      <td>8.43404</td>\n",
       "      <td>9.40992</td>\n",
       "      <td>11.1260</td>\n",
       "      <td>11.9900</td>\n",
       "      <td>7.89078</td>\n",
       "      <td>5.69853</td>\n",
       "      <td>26.3544</td>\n",
       "      <td>65.0467</td>\n",
       "      <td>3</td>\n",
       "      <td>07-09-15</td>\n",
       "      <td>banana</td>\n",
       "      <td>6.49</td>\n",
       "      <td>0.72</td>\n",
       "    </tr>\n",
       "  </tbody>\n",
       "</table>\n",
       "</div>"
      ],
      "text/plain": [
       "           time       R1       R2       R3       R4       R5       R6  \\\n",
       "31227  5.490119  11.5751  8.32428  8.43391  9.40930  11.1259  11.9891   \n",
       "31228  5.490397  11.5752  8.32434  8.43402  9.40951  11.1259  11.9892   \n",
       "31229  5.490675  11.5744  8.32410  8.43397  9.40937  11.1258  11.9895   \n",
       "31230  5.490953  11.5737  8.32389  8.43393  9.40957  11.1258  11.9897   \n",
       "31231  5.491239  11.5737  8.32413  8.43404  9.40992  11.1260  11.9900   \n",
       "\n",
       "            R7       R8    Temp.  Humidity  id      date   class    t0    dt  \n",
       "31227  7.89410  5.69867  26.3565   65.0541   3  07-09-15  banana  6.49  0.72  \n",
       "31228  7.89354  5.69871  26.3559   65.0520   3  07-09-15  banana  6.49  0.72  \n",
       "31229  7.89248  5.69865  26.3553   65.0500   3  07-09-15  banana  6.49  0.72  \n",
       "31230  7.89151  5.69859  26.3548   65.0483   3  07-09-15  banana  6.49  0.72  \n",
       "31231  7.89078  5.69853  26.3544   65.0467   3  07-09-15  banana  6.49  0.72  "
      ]
     },
     "execution_count": 176,
     "metadata": {},
     "output_type": "execute_result"
    }
   ],
   "source": [
    "print(df_test.shape)\n",
    "df_test.head()"
   ]
  },
  {
   "cell_type": "code",
   "execution_count": null,
   "metadata": {},
   "outputs": [],
   "source": []
  },
  {
   "cell_type": "markdown",
   "metadata": {},
   "source": [
    "# Testing training with SVC"
   ]
  },
  {
   "cell_type": "code",
   "execution_count": 162,
   "metadata": {},
   "outputs": [],
   "source": [
    "features = ['R1', 'R2', 'R3', 'R4', 'R5', 'R5', 'R6', 'R7', 'R8', 'Temp.', 'Humidity']\n",
    "xtrain, ytrain = df_train[features].values, df_train['class'].values\n",
    "xtest, ytest = df_test[features].values, df_test['class'].values"
   ]
  },
  {
   "cell_type": "code",
   "execution_count": 168,
   "metadata": {},
   "outputs": [
    {
     "name": "stdout",
     "output_type": "stream",
     "text": [
      "(703127, 11)\n",
      "(703127,)\n",
      "(225864, 11)\n",
      "(225864,)\n"
     ]
    }
   ],
   "source": [
    "print(xtrain.shape)\n",
    "print(ytrain.shape)\n",
    "print(xtest.shape)\n",
    "print(ytest.shape)"
   ]
  },
  {
   "cell_type": "code",
   "execution_count": 165,
   "metadata": {},
   "outputs": [],
   "source": [
    "C = 1e-2\n",
    "clf_svm = SVC(C=C)"
   ]
  },
  {
   "cell_type": "code",
   "execution_count": 166,
   "metadata": {},
   "outputs": [
    {
     "name": "stdout",
     "output_type": "stream",
     "text": [
      "==> Tiempo transcurrido de entrenamiento (horas): 2.160339769191212\n"
     ]
    }
   ],
   "source": [
    "start_t = time.time()\n",
    "\n",
    "clf_svm.fit(xtrain, ytrain)\n",
    "\n",
    "end_t = time.time()\n",
    "\n",
    "print('==> Tiempo transcurrido de entrenamiento (horas):', (end_t-start_t)/(60*60))"
   ]
  },
  {
   "cell_type": "code",
   "execution_count": 167,
   "metadata": {},
   "outputs": [
    {
     "data": {
      "text/plain": [
       "0.3754338894201821"
      ]
     },
     "execution_count": 167,
     "metadata": {},
     "output_type": "execute_result"
    }
   ],
   "source": [
    "clf_svm.score(xtest, ytest)"
   ]
  },
  {
   "cell_type": "markdown",
   "metadata": {},
   "source": [
    "# Testing training with Logistic Regression"
   ]
  },
  {
   "cell_type": "code",
   "execution_count": 177,
   "metadata": {},
   "outputs": [],
   "source": [
    "clf_lr = LogisticRegressionCV()\n",
    "###\n",
    "# Default: k-fold: 5-fold cross validation\n",
    "#          Cs: A grid of Cs values are chosen in a logarithmic scale between 1e-4 and 1e4\n",
    "#          penalty: l2\n",
    "#          solver: lbfgs\n",
    "#          tol: 1e-4\n",
    "#          max_iter: 100\n",
    "###"
   ]
  },
  {
   "cell_type": "code",
   "execution_count": 178,
   "metadata": {},
   "outputs": [
    {
     "data": {
      "text/plain": [
       "LogisticRegressionCV(Cs=10, class_weight=None, cv='warn', dual=False,\n",
       "           fit_intercept=True, intercept_scaling=1.0, max_iter=100,\n",
       "           multi_class='warn', n_jobs=None, penalty='l2',\n",
       "           random_state=None, refit=True, scoring=None, solver='lbfgs',\n",
       "           tol=0.0001, verbose=0)"
      ]
     },
     "execution_count": 178,
     "metadata": {},
     "output_type": "execute_result"
    }
   ],
   "source": [
    "clf_lr.fit(xtrain, ytrain)"
   ]
  },
  {
   "cell_type": "code",
   "execution_count": 179,
   "metadata": {},
   "outputs": [
    {
     "data": {
      "text/plain": [
       "0.552509474728155"
      ]
     },
     "execution_count": 179,
     "metadata": {},
     "output_type": "execute_result"
    }
   ],
   "source": [
    "clf_lr.score(xtest, ytest)"
   ]
  },
  {
   "cell_type": "code",
   "execution_count": null,
   "metadata": {},
   "outputs": [],
   "source": []
  },
  {
   "cell_type": "markdown",
   "metadata": {},
   "source": [
    "# Testing what we got reclassifying the series before and after stimulus"
   ]
  },
  {
   "cell_type": "code",
   "execution_count": 3,
   "metadata": {},
   "outputs": [],
   "source": [
    "import sys\n",
    "sys.path.append('../src')"
   ]
  },
  {
   "cell_type": "code",
   "execution_count": 4,
   "metadata": {},
   "outputs": [],
   "source": [
    "from preprocessing import *"
   ]
  },
  {
   "cell_type": "code",
   "execution_count": 16,
   "metadata": {},
   "outputs": [
    {
     "data": {
      "text/html": [
       "<div>\n",
       "<style scoped>\n",
       "    .dataframe tbody tr th:only-of-type {\n",
       "        vertical-align: middle;\n",
       "    }\n",
       "\n",
       "    .dataframe tbody tr th {\n",
       "        vertical-align: top;\n",
       "    }\n",
       "\n",
       "    .dataframe thead th {\n",
       "        text-align: right;\n",
       "    }\n",
       "</style>\n",
       "<table border=\"1\" class=\"dataframe\">\n",
       "  <thead>\n",
       "    <tr style=\"text-align: right;\">\n",
       "      <th></th>\n",
       "      <th>time</th>\n",
       "      <th>R1</th>\n",
       "      <th>R2</th>\n",
       "      <th>R3</th>\n",
       "      <th>R4</th>\n",
       "      <th>R5</th>\n",
       "      <th>R6</th>\n",
       "      <th>R7</th>\n",
       "      <th>R8</th>\n",
       "      <th>Temp.</th>\n",
       "      <th>Humidity</th>\n",
       "      <th>id</th>\n",
       "      <th>date</th>\n",
       "      <th>class</th>\n",
       "      <th>t0</th>\n",
       "      <th>dt</th>\n",
       "    </tr>\n",
       "  </thead>\n",
       "  <tbody>\n",
       "    <tr>\n",
       "      <th>0</th>\n",
       "      <td>12.490250</td>\n",
       "      <td>12.8621</td>\n",
       "      <td>10.3683</td>\n",
       "      <td>10.4383</td>\n",
       "      <td>11.6699</td>\n",
       "      <td>13.4931</td>\n",
       "      <td>13.3423</td>\n",
       "      <td>8.04169</td>\n",
       "      <td>8.73901</td>\n",
       "      <td>26.2257</td>\n",
       "      <td>59.0528</td>\n",
       "      <td>0</td>\n",
       "      <td>07-04-15</td>\n",
       "      <td>background</td>\n",
       "      <td>13.49</td>\n",
       "      <td>1.64</td>\n",
       "    </tr>\n",
       "    <tr>\n",
       "      <th>1</th>\n",
       "      <td>12.490528</td>\n",
       "      <td>12.8617</td>\n",
       "      <td>10.3682</td>\n",
       "      <td>10.4375</td>\n",
       "      <td>11.6697</td>\n",
       "      <td>13.4927</td>\n",
       "      <td>13.3412</td>\n",
       "      <td>8.04133</td>\n",
       "      <td>8.73908</td>\n",
       "      <td>26.2308</td>\n",
       "      <td>59.0299</td>\n",
       "      <td>0</td>\n",
       "      <td>07-04-15</td>\n",
       "      <td>background</td>\n",
       "      <td>13.49</td>\n",
       "      <td>1.64</td>\n",
       "    </tr>\n",
       "    <tr>\n",
       "      <th>2</th>\n",
       "      <td>12.490806</td>\n",
       "      <td>12.8607</td>\n",
       "      <td>10.3686</td>\n",
       "      <td>10.4370</td>\n",
       "      <td>11.6696</td>\n",
       "      <td>13.4924</td>\n",
       "      <td>13.3405</td>\n",
       "      <td>8.04101</td>\n",
       "      <td>8.73915</td>\n",
       "      <td>26.2365</td>\n",
       "      <td>59.0093</td>\n",
       "      <td>0</td>\n",
       "      <td>07-04-15</td>\n",
       "      <td>background</td>\n",
       "      <td>13.49</td>\n",
       "      <td>1.64</td>\n",
       "    </tr>\n",
       "    <tr>\n",
       "      <th>3</th>\n",
       "      <td>12.491084</td>\n",
       "      <td>12.8602</td>\n",
       "      <td>10.3686</td>\n",
       "      <td>10.4370</td>\n",
       "      <td>11.6697</td>\n",
       "      <td>13.4921</td>\n",
       "      <td>13.3398</td>\n",
       "      <td>8.04086</td>\n",
       "      <td>8.73936</td>\n",
       "      <td>26.2416</td>\n",
       "      <td>58.9905</td>\n",
       "      <td>0</td>\n",
       "      <td>07-04-15</td>\n",
       "      <td>background</td>\n",
       "      <td>13.49</td>\n",
       "      <td>1.64</td>\n",
       "    </tr>\n",
       "    <tr>\n",
       "      <th>4</th>\n",
       "      <td>12.491373</td>\n",
       "      <td>12.8595</td>\n",
       "      <td>10.3688</td>\n",
       "      <td>10.4374</td>\n",
       "      <td>11.6699</td>\n",
       "      <td>13.4919</td>\n",
       "      <td>13.3390</td>\n",
       "      <td>8.04087</td>\n",
       "      <td>8.73986</td>\n",
       "      <td>26.2462</td>\n",
       "      <td>58.9736</td>\n",
       "      <td>0</td>\n",
       "      <td>07-04-15</td>\n",
       "      <td>background</td>\n",
       "      <td>13.49</td>\n",
       "      <td>1.64</td>\n",
       "    </tr>\n",
       "  </tbody>\n",
       "</table>\n",
       "</div>"
      ],
      "text/plain": [
       "        time       R1       R2       R3       R4       R5       R6       R7  \\\n",
       "0  12.490250  12.8621  10.3683  10.4383  11.6699  13.4931  13.3423  8.04169   \n",
       "1  12.490528  12.8617  10.3682  10.4375  11.6697  13.4927  13.3412  8.04133   \n",
       "2  12.490806  12.8607  10.3686  10.4370  11.6696  13.4924  13.3405  8.04101   \n",
       "3  12.491084  12.8602  10.3686  10.4370  11.6697  13.4921  13.3398  8.04086   \n",
       "4  12.491373  12.8595  10.3688  10.4374  11.6699  13.4919  13.3390  8.04087   \n",
       "\n",
       "        R8    Temp.  Humidity  id      date       class     t0    dt  \n",
       "0  8.73901  26.2257   59.0528   0  07-04-15  background  13.49  1.64  \n",
       "1  8.73908  26.2308   59.0299   0  07-04-15  background  13.49  1.64  \n",
       "2  8.73915  26.2365   59.0093   0  07-04-15  background  13.49  1.64  \n",
       "3  8.73936  26.2416   58.9905   0  07-04-15  background  13.49  1.64  \n",
       "4  8.73986  26.2462   58.9736   0  07-04-15  background  13.49  1.64  "
      ]
     },
     "execution_count": 16,
     "metadata": {},
     "output_type": "execute_result"
    }
   ],
   "source": [
    "df_db = group_datafiles_byID('../datasets/raw/HT_Sensor_metadata.dat', '../datasets/raw/HT_Sensor_dataset.dat')\n",
    "df_db = reclassify_series_samples(df_db)\n",
    "df_db.head()"
   ]
  },
  {
   "cell_type": "code",
   "execution_count": 17,
   "metadata": {},
   "outputs": [
    {
     "name": "stdout",
     "output_type": "stream",
     "text": [
      "(703885, 11)\n",
      "(703885,)\n",
      "(225106, 11)\n",
      "(225106,)\n"
     ]
    }
   ],
   "source": [
    "df_train, df_test = split_series_byID(100, 0.75, df_db)\n",
    "features = ['R1', 'R2', 'R3', 'R4', 'R5', 'R5', 'R6', 'R7', 'R8', 'Temp.', 'Humidity']\n",
    "xtrain, ytrain = df_train[features].values, df_train['class'].values\n",
    "xtest, ytest = df_test[features].values, df_test['class'].values\n",
    "print(xtrain.shape)\n",
    "print(ytrain.shape)\n",
    "print(xtest.shape)\n",
    "print(ytest.shape)"
   ]
  },
  {
   "cell_type": "code",
   "execution_count": 18,
   "metadata": {},
   "outputs": [],
   "source": [
    "clf_lr = LogisticRegressionCV()\n",
    "###\n",
    "# Default: k-fold: 5-fold cross validation\n",
    "#          Cs: A grid of Cs values are chosen in a logarithmic scale between 1e-4 and 1e4\n",
    "#          penalty: l2\n",
    "#          solver: lbfgs\n",
    "#          tol: 1e-4\n",
    "#          max_iter: 100\n",
    "###"
   ]
  },
  {
   "cell_type": "code",
   "execution_count": 19,
   "metadata": {},
   "outputs": [
    {
     "data": {
      "text/plain": [
       "LogisticRegressionCV(Cs=10, class_weight=None, cv='warn', dual=False,\n",
       "           fit_intercept=True, intercept_scaling=1.0, max_iter=100,\n",
       "           multi_class='warn', n_jobs=None, penalty='l2',\n",
       "           random_state=None, refit=True, scoring=None, solver='lbfgs',\n",
       "           tol=0.0001, verbose=0)"
      ]
     },
     "execution_count": 19,
     "metadata": {},
     "output_type": "execute_result"
    }
   ],
   "source": [
    "clf_lr.fit(xtrain, ytrain)"
   ]
  },
  {
   "cell_type": "code",
   "execution_count": 20,
   "metadata": {},
   "outputs": [
    {
     "data": {
      "text/plain": [
       "0.8426119250486438"
      ]
     },
     "execution_count": 20,
     "metadata": {},
     "output_type": "execute_result"
    }
   ],
   "source": [
    "clf_lr.score(xtest, ytest)"
   ]
  },
  {
   "cell_type": "code",
   "execution_count": null,
   "metadata": {},
   "outputs": [],
   "source": []
  },
  {
   "cell_type": "code",
   "execution_count": 21,
   "metadata": {},
   "outputs": [],
   "source": [
    "with open('lr_good_split_test_model.pkl', 'wb') as f:\n",
    "    pickle.dump(clf_lr, f)\n"
   ]
  },
  {
   "cell_type": "code",
   "execution_count": null,
   "metadata": {},
   "outputs": [],
   "source": []
  },
  {
   "cell_type": "markdown",
   "metadata": {},
   "source": [
    "# Removing excess of background"
   ]
  },
  {
   "cell_type": "code",
   "execution_count": 7,
   "metadata": {},
   "outputs": [],
   "source": [
    "import sys\n",
    "sys.path.append('../src')\n",
    "\n",
    "from preprocessing import *\n",
    "from sklearn.linear_model import LogisticRegressionCV"
   ]
  },
  {
   "cell_type": "code",
   "execution_count": 4,
   "metadata": {},
   "outputs": [
    {
     "data": {
      "text/html": [
       "<div>\n",
       "<style scoped>\n",
       "    .dataframe tbody tr th:only-of-type {\n",
       "        vertical-align: middle;\n",
       "    }\n",
       "\n",
       "    .dataframe tbody tr th {\n",
       "        vertical-align: top;\n",
       "    }\n",
       "\n",
       "    .dataframe thead th {\n",
       "        text-align: right;\n",
       "    }\n",
       "</style>\n",
       "<table border=\"1\" class=\"dataframe\">\n",
       "  <thead>\n",
       "    <tr style=\"text-align: right;\">\n",
       "      <th></th>\n",
       "      <th>time</th>\n",
       "      <th>R1</th>\n",
       "      <th>R2</th>\n",
       "      <th>R3</th>\n",
       "      <th>R4</th>\n",
       "      <th>R5</th>\n",
       "      <th>R6</th>\n",
       "      <th>R7</th>\n",
       "      <th>R8</th>\n",
       "      <th>Temp.</th>\n",
       "      <th>Humidity</th>\n",
       "      <th>id</th>\n",
       "      <th>date</th>\n",
       "      <th>class</th>\n",
       "      <th>t0</th>\n",
       "      <th>dt</th>\n",
       "    </tr>\n",
       "  </thead>\n",
       "  <tbody>\n",
       "    <tr>\n",
       "      <th>1647</th>\n",
       "      <td>12.990107</td>\n",
       "      <td>13.1748</td>\n",
       "      <td>10.6763</td>\n",
       "      <td>10.7443</td>\n",
       "      <td>12.0120</td>\n",
       "      <td>13.8965</td>\n",
       "      <td>13.6949</td>\n",
       "      <td>8.21363</td>\n",
       "      <td>8.92817</td>\n",
       "      <td>26.1090</td>\n",
       "      <td>58.1348</td>\n",
       "      <td>0</td>\n",
       "      <td>07-04-15</td>\n",
       "      <td>background</td>\n",
       "      <td>13.49</td>\n",
       "      <td>1.64</td>\n",
       "    </tr>\n",
       "    <tr>\n",
       "      <th>1648</th>\n",
       "      <td>12.990385</td>\n",
       "      <td>13.1748</td>\n",
       "      <td>10.6765</td>\n",
       "      <td>10.7446</td>\n",
       "      <td>12.0124</td>\n",
       "      <td>13.8968</td>\n",
       "      <td>13.6943</td>\n",
       "      <td>8.21372</td>\n",
       "      <td>8.92807</td>\n",
       "      <td>26.1091</td>\n",
       "      <td>58.1344</td>\n",
       "      <td>0</td>\n",
       "      <td>07-04-15</td>\n",
       "      <td>background</td>\n",
       "      <td>13.49</td>\n",
       "      <td>1.64</td>\n",
       "    </tr>\n",
       "    <tr>\n",
       "      <th>1649</th>\n",
       "      <td>12.990663</td>\n",
       "      <td>13.1750</td>\n",
       "      <td>10.6765</td>\n",
       "      <td>10.7447</td>\n",
       "      <td>12.0134</td>\n",
       "      <td>13.8966</td>\n",
       "      <td>13.6943</td>\n",
       "      <td>8.21394</td>\n",
       "      <td>8.92814</td>\n",
       "      <td>26.1092</td>\n",
       "      <td>58.1341</td>\n",
       "      <td>0</td>\n",
       "      <td>07-04-15</td>\n",
       "      <td>background</td>\n",
       "      <td>13.49</td>\n",
       "      <td>1.64</td>\n",
       "    </tr>\n",
       "    <tr>\n",
       "      <th>1650</th>\n",
       "      <td>12.990941</td>\n",
       "      <td>13.1749</td>\n",
       "      <td>10.6763</td>\n",
       "      <td>10.7447</td>\n",
       "      <td>12.0137</td>\n",
       "      <td>13.8968</td>\n",
       "      <td>13.6943</td>\n",
       "      <td>8.21414</td>\n",
       "      <td>8.92836</td>\n",
       "      <td>26.1093</td>\n",
       "      <td>58.1338</td>\n",
       "      <td>0</td>\n",
       "      <td>07-04-15</td>\n",
       "      <td>background</td>\n",
       "      <td>13.49</td>\n",
       "      <td>1.64</td>\n",
       "    </tr>\n",
       "    <tr>\n",
       "      <th>1651</th>\n",
       "      <td>12.991219</td>\n",
       "      <td>13.1746</td>\n",
       "      <td>10.6757</td>\n",
       "      <td>10.7446</td>\n",
       "      <td>12.0136</td>\n",
       "      <td>13.8971</td>\n",
       "      <td>13.6947</td>\n",
       "      <td>8.21418</td>\n",
       "      <td>8.92824</td>\n",
       "      <td>26.1093</td>\n",
       "      <td>58.1335</td>\n",
       "      <td>0</td>\n",
       "      <td>07-04-15</td>\n",
       "      <td>background</td>\n",
       "      <td>13.49</td>\n",
       "      <td>1.64</td>\n",
       "    </tr>\n",
       "  </tbody>\n",
       "</table>\n",
       "</div>"
      ],
      "text/plain": [
       "           time       R1       R2       R3       R4       R5       R6  \\\n",
       "1647  12.990107  13.1748  10.6763  10.7443  12.0120  13.8965  13.6949   \n",
       "1648  12.990385  13.1748  10.6765  10.7446  12.0124  13.8968  13.6943   \n",
       "1649  12.990663  13.1750  10.6765  10.7447  12.0134  13.8966  13.6943   \n",
       "1650  12.990941  13.1749  10.6763  10.7447  12.0137  13.8968  13.6943   \n",
       "1651  12.991219  13.1746  10.6757  10.7446  12.0136  13.8971  13.6947   \n",
       "\n",
       "           R7       R8    Temp.  Humidity  id      date       class     t0  \\\n",
       "1647  8.21363  8.92817  26.1090   58.1348   0  07-04-15  background  13.49   \n",
       "1648  8.21372  8.92807  26.1091   58.1344   0  07-04-15  background  13.49   \n",
       "1649  8.21394  8.92814  26.1092   58.1341   0  07-04-15  background  13.49   \n",
       "1650  8.21414  8.92836  26.1093   58.1338   0  07-04-15  background  13.49   \n",
       "1651  8.21418  8.92824  26.1093   58.1335   0  07-04-15  background  13.49   \n",
       "\n",
       "        dt  \n",
       "1647  1.64  \n",
       "1648  1.64  \n",
       "1649  1.64  \n",
       "1650  1.64  \n",
       "1651  1.64  "
      ]
     },
     "execution_count": 4,
     "metadata": {},
     "output_type": "execute_result"
    }
   ],
   "source": [
    "df_db = group_datafiles_byID('../datasets/raw/HT_Sensor_metadata.dat', '../datasets/raw/HT_Sensor_dataset.dat')\n",
    "df_db = reclassify_series_samples(df_db)\n",
    "df_db = remove_excess_bg(df_db)\n",
    "df_db.head()"
   ]
  },
  {
   "cell_type": "code",
   "execution_count": 5,
   "metadata": {},
   "outputs": [
    {
     "name": "stdout",
     "output_type": "stream",
     "text": [
      "(594517, 16)\n"
     ]
    }
   ],
   "source": [
    "print(df_db.shape)"
   ]
  },
  {
   "cell_type": "code",
   "execution_count": 21,
   "metadata": {},
   "outputs": [
    {
     "name": "stdout",
     "output_type": "stream",
     "text": [
      "(442948, 11)\n",
      "(442948,)\n",
      "(151569, 11)\n",
      "(151569,)\n"
     ]
    }
   ],
   "source": [
    "df_train, df_test = split_series_byID(100, 0.75, df_db)\n",
    "features = ['R1', 'R2', 'R3', 'R4', 'R5', 'R5', 'R6', 'R7', 'R8', 'Temp.', 'Humidity']\n",
    "xtrain, ytrain = df_train[features].values, df_train['class'].values\n",
    "xtest, ytest = df_test[features].values, df_test['class'].values\n",
    "print(xtrain.shape)\n",
    "print(ytrain.shape)\n",
    "print(xtest.shape)\n",
    "print(ytest.shape)"
   ]
  },
  {
   "cell_type": "code",
   "execution_count": 22,
   "metadata": {},
   "outputs": [],
   "source": [
    "clf_lr = LogisticRegressionCV()\n",
    "###\n",
    "# Default: k-fold: 5-fold cross validation\n",
    "#          Cs: A grid of Cs values are chosen in a logarithmic scale between 1e-4 and 1e4\n",
    "#          penalty: l2\n",
    "#          solver: lbfgs\n",
    "#          tol: 1e-4\n",
    "#          max_iter: 100\n",
    "###"
   ]
  },
  {
   "cell_type": "code",
   "execution_count": 23,
   "metadata": {},
   "outputs": [
    {
     "data": {
      "text/plain": [
       "LogisticRegressionCV(Cs=10, class_weight=None, cv='warn', dual=False,\n",
       "           fit_intercept=True, intercept_scaling=1.0, max_iter=100,\n",
       "           multi_class='warn', n_jobs=None, penalty='l2',\n",
       "           random_state=None, refit=True, scoring=None, solver='lbfgs',\n",
       "           tol=0.0001, verbose=0)"
      ]
     },
     "execution_count": 23,
     "metadata": {},
     "output_type": "execute_result"
    }
   ],
   "source": [
    "clf_lr.fit(xtrain, ytrain)"
   ]
  },
  {
   "cell_type": "code",
   "execution_count": 24,
   "metadata": {},
   "outputs": [
    {
     "data": {
      "text/plain": [
       "0.8234005634397535"
      ]
     },
     "execution_count": 24,
     "metadata": {},
     "output_type": "execute_result"
    }
   ],
   "source": [
    "clf_lr.score(xtest, ytest)"
   ]
  },
  {
   "cell_type": "markdown",
   "metadata": {},
   "source": [
    "# Testing with a 5-layer neural network"
   ]
  },
  {
   "cell_type": "code",
   "execution_count": 44,
   "metadata": {},
   "outputs": [],
   "source": [
    "from sklearn.neural_network import MLPClassifier\n",
    "import time"
   ]
  },
  {
   "cell_type": "code",
   "execution_count": 48,
   "metadata": {},
   "outputs": [
    {
     "name": "stdout",
     "output_type": "stream",
     "text": [
      "========================================\n",
      "Number of hidden layers: 1\n",
      "Number of neurons per layer: 5\n",
      "Accuracy: 0.7474020679082815\n",
      "Time (minutes): 2.09681693315506\n",
      "========================================\n",
      "========================================\n",
      "Number of hidden layers: 1\n",
      "Number of neurons per layer: 10\n",
      "Accuracy: 0.7315296110267492\n",
      "Time (minutes): 6.165274548530578\n",
      "========================================\n",
      "========================================\n",
      "Number of hidden layers: 1\n",
      "Number of neurons per layer: 30\n",
      "Accuracy: 0.6855147340221968\n",
      "Time (minutes): 9.630225416024526\n",
      "========================================\n",
      "========================================\n",
      "Number of hidden layers: 1\n",
      "Number of neurons per layer: 50\n",
      "Accuracy: 0.7086005398203821\n",
      "Time (minutes): 18.78674513498942\n",
      "========================================\n",
      "========================================\n",
      "Number of hidden layers: 2\n",
      "Number of neurons per layer: 5\n",
      "Accuracy: 0.7360287350444831\n",
      "Time (minutes): 1.6581427017847696\n",
      "========================================\n",
      "========================================\n",
      "Number of hidden layers: 2\n",
      "Number of neurons per layer: 10\n",
      "Accuracy: 0.7085657778080884\n",
      "Time (minutes): 5.473576414585113\n",
      "========================================\n",
      "========================================\n",
      "Number of hidden layers: 2\n",
      "Number of neurons per layer: 30\n",
      "Accuracy: 0.7908143945913569\n",
      "Time (minutes): 25.004579945405325\n",
      "========================================\n",
      "========================================\n",
      "Number of hidden layers: 2\n",
      "Number of neurons per layer: 50\n",
      "Accuracy: 0.571268169612359\n",
      "Time (minutes): 52.15484143098195\n",
      "========================================\n",
      "========================================\n",
      "Number of hidden layers: 3\n",
      "Number of neurons per layer: 5\n",
      "Accuracy: 0.7064792334006624\n",
      "Time (minutes): 3.421138083934784\n",
      "========================================\n",
      "========================================\n",
      "Number of hidden layers: 3\n",
      "Number of neurons per layer: 10\n",
      "Accuracy: 0.7552046141170008\n",
      "Time (minutes): 12.806893650690714\n",
      "========================================\n",
      "========================================\n",
      "Number of hidden layers: 3\n",
      "Number of neurons per layer: 30\n",
      "Accuracy: 0.7832139101854366\n",
      "Time (minutes): 23.980814202626547\n",
      "========================================\n",
      "========================================\n",
      "Number of hidden layers: 3\n",
      "Number of neurons per layer: 50\n",
      "Accuracy: 0.5964062235221018\n",
      "Time (minutes): 32.66331736644109\n",
      "========================================\n",
      "========================================\n",
      "Number of hidden layers: 4\n",
      "Number of neurons per layer: 5\n",
      "Accuracy: 0.6897493334710504\n",
      "Time (minutes): 6.756540282567342\n",
      "========================================\n",
      "========================================\n",
      "Number of hidden layers: 4\n",
      "Number of neurons per layer: 10\n",
      "Accuracy: 0.786479802143446\n",
      "Time (minutes): 18.81236370007197\n",
      "========================================\n",
      "========================================\n",
      "Number of hidden layers: 4\n",
      "Number of neurons per layer: 30\n",
      "Accuracy: 0.6879532007651586\n",
      "Time (minutes): 53.683505650361376\n",
      "========================================\n",
      "========================================\n",
      "Number of hidden layers: 4\n",
      "Number of neurons per layer: 50\n",
      "Accuracy: 0.6756852994443933\n",
      "Time (minutes): 62.429961144924164\n",
      "========================================\n",
      "\n",
      "====> Total tiempo transcurrido (horas): 5.592083975341585\n"
     ]
    }
   ],
   "source": [
    "start_total = time.time()\n",
    "\n",
    "for n_hid_layers in [1, 2, 3, 4]:\n",
    "    for n_neur in [5, 10, 30, 50]:\n",
    "        tup = []\n",
    "        for i in range(n_hid_layers):\n",
    "            tup.append(n_neur)\n",
    "        tup = tuple(tup)\n",
    "\n",
    "        start_t = time.time()\n",
    "\n",
    "        clf_nn = MLPClassifier(\n",
    "                    hidden_layer_sizes = tup,\n",
    "                    activation='relu',\n",
    "                    solver='adam',\n",
    "                    max_iter=1000,\n",
    "                )\n",
    "        df_train, df_test = split_series_byID(100, 0.75, df_db)\n",
    "        features = ['R1', 'R2', 'R3', 'R4', 'R5', 'R5', 'R6', 'R7', 'R8', 'Temp.', 'Humidity']\n",
    "        xtrain, ytrain = df_train[features].values, df_train['class'].values\n",
    "        xtest, ytest = df_test[features].values, df_test['class'].values\n",
    "\n",
    "        clf_nn.fit(xtrain, ytrain)\n",
    "\n",
    "        accuracy = clf_nn.score(xtest, ytest)\n",
    "\n",
    "        end_t = time.time()\n",
    "\n",
    "        print('========================================')\n",
    "        print('Number of hidden layers:', n_hid_layers)\n",
    "        print('Number of neurons per layer:', n_neur)\n",
    "        print('Accuracy:', accuracy)\n",
    "        print('Time (minutes):', (end_t-start_t)/60)\n",
    "        print('========================================')\n",
    "\n",
    "end_total = time.time()\n",
    "print('\\n====> Total tiempo transcurrido (horas):', (end_total-start_total)/(60*60))"
   ]
  },
  {
   "cell_type": "code",
   "execution_count": null,
   "metadata": {},
   "outputs": [],
   "source": [
    "# Testing it with deleted excess background dataframe\n",
    "df_train, df_test = split_series_byID(100, 0.75, df_db)\n",
    "features = ['R1', 'R2', 'R3', 'R4', 'R5', 'R5', 'R6', 'R7', 'R8', 'Temp.', 'Humidity']\n",
    "xtrain, ytrain = df_train[features].values, df_train['class'].values\n",
    "xtest, ytest = df_test[features].values, df_test['class'].values\n",
    "print(xtrain.shape)\n",
    "print(ytrain.shape)\n",
    "print(xtest.shape)\n",
    "print(ytest.shape)"
   ]
  },
  {
   "cell_type": "code",
   "execution_count": 42,
   "metadata": {},
   "outputs": [
    {
     "data": {
      "text/plain": [
       "MLPClassifier(activation='relu', alpha=0.0001, batch_size='auto', beta_1=0.9,\n",
       "       beta_2=0.999, early_stopping=False, epsilon=1e-08,\n",
       "       hidden_layer_sizes=(20, 20, 20), learning_rate='constant',\n",
       "       learning_rate_init=0.001, max_iter=1000, momentum=0.9,\n",
       "       n_iter_no_change=10, nesterovs_momentum=True, power_t=0.5,\n",
       "       random_state=None, shuffle=True, solver='lbfgs', tol=0.0001,\n",
       "       validation_fraction=0.1, verbose=False, warm_start=False)"
      ]
     },
     "execution_count": 42,
     "metadata": {},
     "output_type": "execute_result"
    }
   ],
   "source": [
    "clf_nn.fit(xtrain, ytrain)"
   ]
  },
  {
   "cell_type": "code",
   "execution_count": 43,
   "metadata": {},
   "outputs": [
    {
     "data": {
      "text/plain": [
       "0.6840381991814461"
      ]
     },
     "execution_count": 43,
     "metadata": {},
     "output_type": "execute_result"
    }
   ],
   "source": [
    "clf_nn.score(xtest, ytest)"
   ]
  },
  {
   "cell_type": "code",
   "execution_count": null,
   "metadata": {},
   "outputs": [],
   "source": []
  }
 ],
 "metadata": {
  "kernelspec": {
   "display_name": "Python 3",
   "language": "python",
   "name": "python3"
  },
  "language_info": {
   "codemirror_mode": {
    "name": "ipython",
    "version": 3
   },
   "file_extension": ".py",
   "mimetype": "text/x-python",
   "name": "python",
   "nbconvert_exporter": "python",
   "pygments_lexer": "ipython3",
   "version": "3.8.2"
  }
 },
 "nbformat": 4,
 "nbformat_minor": 2
}
